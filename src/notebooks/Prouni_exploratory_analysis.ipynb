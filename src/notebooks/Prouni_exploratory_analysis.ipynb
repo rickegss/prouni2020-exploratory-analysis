{
  "cells": [
    {
      "cell_type": "markdown",
      "metadata": {
        "colab_type": "text",
        "id": "view-in-github"
      },
      "source": [
        "<a href=\"https://colab.research.google.com/github/rickegss/prouni2020-exploratory-analysis/blob/main/Prouni_exploratory_analysis.ipynb\" target=\"_parent\"><img src=\"https://colab.research.google.com/assets/colab-badge.svg\" alt=\"Open In Colab\"/></a>"
      ]
    },
    {
      "cell_type": "markdown",
      "metadata": {
        "id": "2UOM5fhw_q7N"
      },
      "source": [
        "# Data Science - Basic Pratice Project - PROUNI 2020 Dados Abertos"
      ]
    },
    {
      "cell_type": "markdown",
      "metadata": {
        "id": "Ixp4jl9vHjxD"
      },
      "source": [
        "In this project, we will create the dataframe and perform data preprocessing, following steps of cleaning and treatment based on the questions and insights we want to explore. Next, we will generate graphs to visualize patterns and trends, analyzing the insights they reveal about our study."
      ]
    },
    {
      "cell_type": "markdown",
      "metadata": {
        "id": "vb7PwfkM_u67"
      },
      "source": [
        "Importing the used libraries"
      ]
    },
    {
      "cell_type": "code",
      "execution_count": 1,
      "metadata": {
        "id": "vVRvNGl3_SY8"
      },
      "outputs": [],
      "source": [
        "import pandas as pd # → data manipulation\n",
        "import seaborn as sns # → creating plots/graphs\n",
        "import matplotlib.pyplot as plt # → advanced statistical visualizations\n",
        "import plotly.express as px # → for interactive and visually-pleasing charts\n",
        "from pathlib import Path # → for directory resolution\n",
        "import os"
      ]
    },
    {
      "cell_type": "markdown",
      "metadata": {
        "id": "ZmkBQI07_-f3"
      },
      "source": [
        "Extracting the data"
      ]
    },
    {
      "cell_type": "code",
      "execution_count": 2,
      "metadata": {
        "id": "nWL6CteGAArm"
      },
      "outputs": [],
      "source": [
        "current_dir = Path(os.getcwd())\n",
        "root = current_dir.parent.parent\n",
        "read_path = root / 'data' / 'raw' / 'Prouni2020.csv'\n",
        "save_path = root / 'data' / 'processed' / 'prouni_df.csv'\n",
        "report_path = root / 'reports' / 'figures'"
      ]
    },
    {
      "cell_type": "code",
      "execution_count": 3,
      "metadata": {
        "colab": {
          "base_uri": "https://localhost:8080/",
          "height": 298
        },
        "id": "TPd1-wa4fA9G",
        "outputId": "8d37c29e-e21f-40d7-e5d0-632e6719575a"
      },
      "outputs": [],
      "source": [
        "data = pd.read_csv(read_path, sep=';', encoding='latin1')"
      ]
    },
    {
      "cell_type": "markdown",
      "metadata": {
        "id": "aI5WjI4CB8Z8"
      },
      "source": [
        "First look on the DataFrame, before data processing:"
      ]
    },
    {
      "cell_type": "code",
      "execution_count": 4,
      "metadata": {
        "id": "22EZ4NlrCBjv"
      },
      "outputs": [
        {
          "data": {
            "text/html": [
              "<div>\n",
              "<style scoped>\n",
              "    .dataframe tbody tr th:only-of-type {\n",
              "        vertical-align: middle;\n",
              "    }\n",
              "\n",
              "    .dataframe tbody tr th {\n",
              "        vertical-align: top;\n",
              "    }\n",
              "\n",
              "    .dataframe thead th {\n",
              "        text-align: right;\n",
              "    }\n",
              "</style>\n",
              "<table border=\"1\" class=\"dataframe\">\n",
              "  <thead>\n",
              "    <tr style=\"text-align: right;\">\n",
              "      <th></th>\n",
              "      <th>ANO_CONCESSAO_BOLSA</th>\n",
              "      <th>CODIGO_EMEC_IES_BOLSA</th>\n",
              "      <th>NOME_IES_BOLSA</th>\n",
              "      <th>MUNICIPIO</th>\n",
              "      <th>CAMPUS</th>\n",
              "      <th>TIPO_BOLSA</th>\n",
              "      <th>MODALIDADE_ENSINO_BOLSA</th>\n",
              "      <th>NOME_CURSO_BOLSA</th>\n",
              "      <th>NOME_TURNO_CURSO_BOLSA</th>\n",
              "      <th>CPF_BENEFICIARIO</th>\n",
              "      <th>SEXO_BENEFICIARIO</th>\n",
              "      <th>RACA_BENEFICIARIO</th>\n",
              "      <th>DATA_NASCIMENTO</th>\n",
              "      <th>BENEFICIARIO_DEFICIENTE_FISICO</th>\n",
              "      <th>REGIAO_BENEFICIARIO</th>\n",
              "      <th>UF_BENEFICIARIO</th>\n",
              "      <th>MUNICIPIO_BENEFICIARIO</th>\n",
              "    </tr>\n",
              "  </thead>\n",
              "  <tbody>\n",
              "    <tr>\n",
              "      <th>0</th>\n",
              "      <td>2020</td>\n",
              "      <td>322</td>\n",
              "      <td>UNIVERSIDADE PAULISTA</td>\n",
              "      <td>IPATINGA</td>\n",
              "      <td>IPATINGA</td>\n",
              "      <td>INTEGRAL</td>\n",
              "      <td>EAD</td>\n",
              "      <td>PEDAGOGIA</td>\n",
              "      <td>CURSO A DISTÂNCIA</td>\n",
              "      <td>991.XXX.XXX-91</td>\n",
              "      <td>F</td>\n",
              "      <td>Parda</td>\n",
              "      <td>11/08/1973</td>\n",
              "      <td>N</td>\n",
              "      <td>SUDESTE</td>\n",
              "      <td>MG</td>\n",
              "      <td>GOVERNADOR VALADARES</td>\n",
              "    </tr>\n",
              "    <tr>\n",
              "      <th>1</th>\n",
              "      <td>2020</td>\n",
              "      <td>163</td>\n",
              "      <td>UNIVERSIDADE ESTÁCIO DE SÁ</td>\n",
              "      <td>FORTALEZA</td>\n",
              "      <td>EAD VIA CORPVS - CE</td>\n",
              "      <td>INTEGRAL</td>\n",
              "      <td>EAD</td>\n",
              "      <td>MARKETING</td>\n",
              "      <td>CURSO A DISTÂNCIA</td>\n",
              "      <td>067.XXX.XXX-01</td>\n",
              "      <td>M</td>\n",
              "      <td>Parda</td>\n",
              "      <td>13/05/1987</td>\n",
              "      <td>N</td>\n",
              "      <td>NORDESTE</td>\n",
              "      <td>CE</td>\n",
              "      <td>FORTALEZA</td>\n",
              "    </tr>\n",
              "    <tr>\n",
              "      <th>2</th>\n",
              "      <td>2020</td>\n",
              "      <td>17670</td>\n",
              "      <td>FACULDADE DE QUIXERAMOBIM</td>\n",
              "      <td>QUIXERAMOBIM</td>\n",
              "      <td>FACULDADE DE QUIXERAMOBIM - UNIQ</td>\n",
              "      <td>INTEGRAL</td>\n",
              "      <td>PRESENCIAL</td>\n",
              "      <td>FARMÁCIA</td>\n",
              "      <td>NOTURNO</td>\n",
              "      <td>623.XXX.XXX-27</td>\n",
              "      <td>M</td>\n",
              "      <td>Parda</td>\n",
              "      <td>23/07/2001</td>\n",
              "      <td>N</td>\n",
              "      <td>NORDESTE</td>\n",
              "      <td>CE</td>\n",
              "      <td>MOMBACA</td>\n",
              "    </tr>\n",
              "    <tr>\n",
              "      <th>3</th>\n",
              "      <td>2020</td>\n",
              "      <td>203</td>\n",
              "      <td>UNIVERSIDADE SÃO JUDAS TADEU</td>\n",
              "      <td>SAO PAULO</td>\n",
              "      <td>PAULISTA</td>\n",
              "      <td>PARCIAL</td>\n",
              "      <td>PRESENCIAL</td>\n",
              "      <td>DIREITO</td>\n",
              "      <td>MATUTINO</td>\n",
              "      <td>089.XXX.XXX-40</td>\n",
              "      <td>F</td>\n",
              "      <td>Branca</td>\n",
              "      <td>04/04/2003</td>\n",
              "      <td>N</td>\n",
              "      <td>NORDESTE</td>\n",
              "      <td>BA</td>\n",
              "      <td>IBITITA</td>\n",
              "    </tr>\n",
              "    <tr>\n",
              "      <th>4</th>\n",
              "      <td>2020</td>\n",
              "      <td>203</td>\n",
              "      <td>UNIVERSIDADE SÃO JUDAS TADEU</td>\n",
              "      <td>SAO PAULO</td>\n",
              "      <td>PAULISTA</td>\n",
              "      <td>INTEGRAL</td>\n",
              "      <td>PRESENCIAL</td>\n",
              "      <td>DIREITO</td>\n",
              "      <td>MATUTINO</td>\n",
              "      <td>173.XXX.XXX-09</td>\n",
              "      <td>F</td>\n",
              "      <td>Branca</td>\n",
              "      <td>07/12/1977</td>\n",
              "      <td>N</td>\n",
              "      <td>SUDESTE</td>\n",
              "      <td>SP</td>\n",
              "      <td>SAO PAULO</td>\n",
              "    </tr>\n",
              "    <tr>\n",
              "      <th>5</th>\n",
              "      <td>2020</td>\n",
              "      <td>203</td>\n",
              "      <td>UNIVERSIDADE SÃO JUDAS TADEU</td>\n",
              "      <td>SAO PAULO</td>\n",
              "      <td>UNIDADE JABAQUARA</td>\n",
              "      <td>INTEGRAL</td>\n",
              "      <td>PRESENCIAL</td>\n",
              "      <td>MEDICINA VETERINÁRIA</td>\n",
              "      <td>NOTURNO</td>\n",
              "      <td>508.XXX.XXX-99</td>\n",
              "      <td>F</td>\n",
              "      <td>Parda</td>\n",
              "      <td>17/12/2001</td>\n",
              "      <td>N</td>\n",
              "      <td>SUDESTE</td>\n",
              "      <td>SP</td>\n",
              "      <td>SAO PAULO</td>\n",
              "    </tr>\n",
              "  </tbody>\n",
              "</table>\n",
              "</div>"
            ],
            "text/plain": [
              "   ANO_CONCESSAO_BOLSA  CODIGO_EMEC_IES_BOLSA                NOME_IES_BOLSA  \\\n",
              "0                 2020                    322         UNIVERSIDADE PAULISTA   \n",
              "1                 2020                    163    UNIVERSIDADE ESTÁCIO DE SÁ   \n",
              "2                 2020                  17670     FACULDADE DE QUIXERAMOBIM   \n",
              "3                 2020                    203  UNIVERSIDADE SÃO JUDAS TADEU   \n",
              "4                 2020                    203  UNIVERSIDADE SÃO JUDAS TADEU   \n",
              "5                 2020                    203  UNIVERSIDADE SÃO JUDAS TADEU   \n",
              "\n",
              "      MUNICIPIO                            CAMPUS TIPO_BOLSA  \\\n",
              "0      IPATINGA                          IPATINGA   INTEGRAL   \n",
              "1     FORTALEZA               EAD VIA CORPVS - CE   INTEGRAL   \n",
              "2  QUIXERAMOBIM  FACULDADE DE QUIXERAMOBIM - UNIQ   INTEGRAL   \n",
              "3     SAO PAULO                          PAULISTA    PARCIAL   \n",
              "4     SAO PAULO                          PAULISTA   INTEGRAL   \n",
              "5     SAO PAULO                 UNIDADE JABAQUARA   INTEGRAL   \n",
              "\n",
              "  MODALIDADE_ENSINO_BOLSA      NOME_CURSO_BOLSA NOME_TURNO_CURSO_BOLSA  \\\n",
              "0                     EAD             PEDAGOGIA      CURSO A DISTÂNCIA   \n",
              "1                     EAD             MARKETING      CURSO A DISTÂNCIA   \n",
              "2              PRESENCIAL              FARMÁCIA                NOTURNO   \n",
              "3              PRESENCIAL               DIREITO               MATUTINO   \n",
              "4              PRESENCIAL               DIREITO               MATUTINO   \n",
              "5              PRESENCIAL  MEDICINA VETERINÁRIA                NOTURNO   \n",
              "\n",
              "  CPF_BENEFICIARIO SEXO_BENEFICIARIO RACA_BENEFICIARIO DATA_NASCIMENTO  \\\n",
              "0   991.XXX.XXX-91                 F             Parda      11/08/1973   \n",
              "1   067.XXX.XXX-01                 M             Parda      13/05/1987   \n",
              "2   623.XXX.XXX-27                 M             Parda      23/07/2001   \n",
              "3   089.XXX.XXX-40                 F            Branca      04/04/2003   \n",
              "4   173.XXX.XXX-09                 F            Branca      07/12/1977   \n",
              "5   508.XXX.XXX-99                 F             Parda      17/12/2001   \n",
              "\n",
              "  BENEFICIARIO_DEFICIENTE_FISICO REGIAO_BENEFICIARIO UF_BENEFICIARIO  \\\n",
              "0                              N             SUDESTE              MG   \n",
              "1                              N            NORDESTE              CE   \n",
              "2                              N            NORDESTE              CE   \n",
              "3                              N            NORDESTE              BA   \n",
              "4                              N             SUDESTE              SP   \n",
              "5                              N             SUDESTE              SP   \n",
              "\n",
              "  MUNICIPIO_BENEFICIARIO  \n",
              "0   GOVERNADOR VALADARES  \n",
              "1              FORTALEZA  \n",
              "2                MOMBACA  \n",
              "3                IBITITA  \n",
              "4              SAO PAULO  \n",
              "5              SAO PAULO  "
            ]
          },
          "metadata": {},
          "output_type": "display_data"
        }
      ],
      "source": [
        "display(data.head(6))"
      ]
    },
    {
      "cell_type": "markdown",
      "metadata": {
        "id": "nUpF0g-1EyP2"
      },
      "source": [
        "As observed, some columns are not relevant to the analysis. To improve readability and data treatment, the DataFrame will be reduced."
      ]
    },
    {
      "cell_type": "markdown",
      "metadata": {
        "id": "cwXAStTJHjYu"
      },
      "source": [
        "The year 2020 is the only one in the dataset, so 'ANO_CONCESSAO_BOLSA' will be removed, along with 'CODIGO_EMEC_IES_BOLSA', 'CAMPUS', and 'CPF_BENEFICIARIO'."
      ]
    },
    {
      "cell_type": "code",
      "execution_count": 5,
      "metadata": {
        "id": "WxuvzkHHHmjg"
      },
      "outputs": [],
      "source": [
        "data = data.drop(['ANO_CONCESSAO_BOLSA','CODIGO_EMEC_IES_BOLSA','CAMPUS','CPF_BENEFICIARIO'], axis=1)"
      ]
    },
    {
      "cell_type": "markdown",
      "metadata": {
        "id": "7-gUuFofIr1z"
      },
      "source": [
        "Now, we gonna rename the columns to a clear, undestanding and short label to make the dataframe easy to work with."
      ]
    },
    {
      "cell_type": "code",
      "execution_count": 6,
      "metadata": {
        "id": "nsx4MJM7JcRt"
      },
      "outputs": [],
      "source": [
        "data.columns=[\n",
        "    'INSTITUICAO',\n",
        "    'MUNICIPIO',\n",
        "    'BOLSA',\n",
        "    'MODALIDADE',\n",
        "    'CURSO',\n",
        "    'TURNO',\n",
        "    'SEXO',\n",
        "    'RACA',\n",
        "    'NASCIMENTO',\n",
        "    'PCD',\n",
        "    'REGIAO',\n",
        "    'UF_ALUNO',\n",
        "    'CIDADE_ALUNO'\n",
        "]"
      ]
    },
    {
      "cell_type": "markdown",
      "metadata": {
        "id": "JFr0GYYoMcL6"
      },
      "source": [
        "To gain better insights, we can replace the 'NASCIMENTO' column with an 'IDADE' column that calculates the student's age using datetime operations between the PROUNI 2020's results release date, and the student's birthyear."
      ]
    },
    {
      "cell_type": "markdown",
      "metadata": {
        "id": "vFlE8ZTjNerC"
      },
      "source": [
        "Converting 'NASCIMENTO' to datetime format, and replacing it with an 'IDADE' column:"
      ]
    },
    {
      "cell_type": "code",
      "execution_count": 7,
      "metadata": {
        "id": "3_zw98fFNi4O"
      },
      "outputs": [],
      "source": [
        "data['NASCIMENTO'] = pd.to_datetime(data['NASCIMENTO'], format=\"%d/%m/%Y\")\n",
        "\n",
        "# Calculating by the 2020 Results Release Date\n",
        "release = pd.to_datetime('04/02/2020', format=\"%d/%m/%Y\")\n",
        "\n",
        "data['IDADE'] = ((release - data['NASCIMENTO']).dt.days // 365)\n",
        "\n",
        "data['NASCIMENTO'] = data['IDADE']\n",
        "data = data.drop('IDADE', axis=1)\n",
        "\n",
        "data.rename(columns={'NASCIMENTO': 'IDADE'}, inplace=True)"
      ]
    },
    {
      "cell_type": "markdown",
      "metadata": {
        "id": "dAoOmPvwlYXb"
      },
      "source": [
        "\"Observing the 'RACA' column, we can notice some undesired values. Since we aim to extract social insights based on students' race, we will work only with awarded individuals who have properly declared their race. Therefore, the 'Não Informada' values will be removed, as they correspond to unspecified race.\""
      ]
    },
    {
      "cell_type": "code",
      "execution_count": 8,
      "metadata": {
        "id": "5uVvsCAGnLx7"
      },
      "outputs": [],
      "source": [
        "data[\"RACA\"] = data[\"RACA\"][data['RACA'] != 'Não Informada']"
      ]
    },
    {
      "cell_type": "markdown",
      "metadata": {
        "id": "VNkKYCfTksUb"
      },
      "source": [
        "With the data clear and processed, now we can work on the definitive DataFrame:"
      ]
    },
    {
      "cell_type": "code",
      "execution_count": 9,
      "metadata": {
        "id": "5IbJt3Esk2Xj"
      },
      "outputs": [
        {
          "data": {
            "text/html": [
              "<div>\n",
              "<style scoped>\n",
              "    .dataframe tbody tr th:only-of-type {\n",
              "        vertical-align: middle;\n",
              "    }\n",
              "\n",
              "    .dataframe tbody tr th {\n",
              "        vertical-align: top;\n",
              "    }\n",
              "\n",
              "    .dataframe thead th {\n",
              "        text-align: right;\n",
              "    }\n",
              "</style>\n",
              "<table border=\"1\" class=\"dataframe\">\n",
              "  <thead>\n",
              "    <tr style=\"text-align: right;\">\n",
              "      <th></th>\n",
              "      <th>INSTITUICAO</th>\n",
              "      <th>MUNICIPIO</th>\n",
              "      <th>BOLSA</th>\n",
              "      <th>MODALIDADE</th>\n",
              "      <th>CURSO</th>\n",
              "      <th>TURNO</th>\n",
              "      <th>SEXO</th>\n",
              "      <th>RACA</th>\n",
              "      <th>IDADE</th>\n",
              "      <th>PCD</th>\n",
              "      <th>REGIAO</th>\n",
              "      <th>UF_ALUNO</th>\n",
              "      <th>CIDADE_ALUNO</th>\n",
              "    </tr>\n",
              "  </thead>\n",
              "  <tbody>\n",
              "    <tr>\n",
              "      <th>0</th>\n",
              "      <td>UNIVERSIDADE PAULISTA</td>\n",
              "      <td>IPATINGA</td>\n",
              "      <td>INTEGRAL</td>\n",
              "      <td>EAD</td>\n",
              "      <td>PEDAGOGIA</td>\n",
              "      <td>CURSO A DISTÂNCIA</td>\n",
              "      <td>F</td>\n",
              "      <td>Parda</td>\n",
              "      <td>46</td>\n",
              "      <td>N</td>\n",
              "      <td>SUDESTE</td>\n",
              "      <td>MG</td>\n",
              "      <td>GOVERNADOR VALADARES</td>\n",
              "    </tr>\n",
              "    <tr>\n",
              "      <th>1</th>\n",
              "      <td>UNIVERSIDADE ESTÁCIO DE SÁ</td>\n",
              "      <td>FORTALEZA</td>\n",
              "      <td>INTEGRAL</td>\n",
              "      <td>EAD</td>\n",
              "      <td>MARKETING</td>\n",
              "      <td>CURSO A DISTÂNCIA</td>\n",
              "      <td>M</td>\n",
              "      <td>Parda</td>\n",
              "      <td>32</td>\n",
              "      <td>N</td>\n",
              "      <td>NORDESTE</td>\n",
              "      <td>CE</td>\n",
              "      <td>FORTALEZA</td>\n",
              "    </tr>\n",
              "    <tr>\n",
              "      <th>2</th>\n",
              "      <td>FACULDADE DE QUIXERAMOBIM</td>\n",
              "      <td>QUIXERAMOBIM</td>\n",
              "      <td>INTEGRAL</td>\n",
              "      <td>PRESENCIAL</td>\n",
              "      <td>FARMÁCIA</td>\n",
              "      <td>NOTURNO</td>\n",
              "      <td>M</td>\n",
              "      <td>Parda</td>\n",
              "      <td>18</td>\n",
              "      <td>N</td>\n",
              "      <td>NORDESTE</td>\n",
              "      <td>CE</td>\n",
              "      <td>MOMBACA</td>\n",
              "    </tr>\n",
              "    <tr>\n",
              "      <th>3</th>\n",
              "      <td>UNIVERSIDADE SÃO JUDAS TADEU</td>\n",
              "      <td>SAO PAULO</td>\n",
              "      <td>PARCIAL</td>\n",
              "      <td>PRESENCIAL</td>\n",
              "      <td>DIREITO</td>\n",
              "      <td>MATUTINO</td>\n",
              "      <td>F</td>\n",
              "      <td>Branca</td>\n",
              "      <td>16</td>\n",
              "      <td>N</td>\n",
              "      <td>NORDESTE</td>\n",
              "      <td>BA</td>\n",
              "      <td>IBITITA</td>\n",
              "    </tr>\n",
              "    <tr>\n",
              "      <th>4</th>\n",
              "      <td>UNIVERSIDADE SÃO JUDAS TADEU</td>\n",
              "      <td>SAO PAULO</td>\n",
              "      <td>INTEGRAL</td>\n",
              "      <td>PRESENCIAL</td>\n",
              "      <td>DIREITO</td>\n",
              "      <td>MATUTINO</td>\n",
              "      <td>F</td>\n",
              "      <td>Branca</td>\n",
              "      <td>42</td>\n",
              "      <td>N</td>\n",
              "      <td>SUDESTE</td>\n",
              "      <td>SP</td>\n",
              "      <td>SAO PAULO</td>\n",
              "    </tr>\n",
              "    <tr>\n",
              "      <th>...</th>\n",
              "      <td>...</td>\n",
              "      <td>...</td>\n",
              "      <td>...</td>\n",
              "      <td>...</td>\n",
              "      <td>...</td>\n",
              "      <td>...</td>\n",
              "      <td>...</td>\n",
              "      <td>...</td>\n",
              "      <td>...</td>\n",
              "      <td>...</td>\n",
              "      <td>...</td>\n",
              "      <td>...</td>\n",
              "      <td>...</td>\n",
              "    </tr>\n",
              "    <tr>\n",
              "      <th>166825</th>\n",
              "      <td>CENTRO UNIVERSITÁRIO INTERNACIONAL</td>\n",
              "      <td>CABO FRIO</td>\n",
              "      <td>PARCIAL</td>\n",
              "      <td>EAD</td>\n",
              "      <td>ADMINISTRAÇÃO</td>\n",
              "      <td>CURSO A DISTÂNCIA</td>\n",
              "      <td>F</td>\n",
              "      <td>Parda</td>\n",
              "      <td>23</td>\n",
              "      <td>N</td>\n",
              "      <td>SUDESTE</td>\n",
              "      <td>RJ</td>\n",
              "      <td>SAO PEDRO DA ALDEIA</td>\n",
              "    </tr>\n",
              "    <tr>\n",
              "      <th>166826</th>\n",
              "      <td>CENTRO UNIVERSITÁRIO INTERNACIONAL</td>\n",
              "      <td>CABO FRIO</td>\n",
              "      <td>PARCIAL</td>\n",
              "      <td>EAD</td>\n",
              "      <td>RELAÇÕES INTERNACIONAIS</td>\n",
              "      <td>CURSO A DISTÂNCIA</td>\n",
              "      <td>F</td>\n",
              "      <td>Parda</td>\n",
              "      <td>17</td>\n",
              "      <td>N</td>\n",
              "      <td>SUDESTE</td>\n",
              "      <td>RJ</td>\n",
              "      <td>ARARUAMA</td>\n",
              "    </tr>\n",
              "    <tr>\n",
              "      <th>166827</th>\n",
              "      <td>CENTRO UNIVERSITÁRIO INTERNACIONAL</td>\n",
              "      <td>CANOAS</td>\n",
              "      <td>PARCIAL</td>\n",
              "      <td>EAD</td>\n",
              "      <td>ADMINISTRAÇÃO</td>\n",
              "      <td>CURSO A DISTÂNCIA</td>\n",
              "      <td>M</td>\n",
              "      <td>Branca</td>\n",
              "      <td>22</td>\n",
              "      <td>N</td>\n",
              "      <td>SUL</td>\n",
              "      <td>RS</td>\n",
              "      <td>CANOAS</td>\n",
              "    </tr>\n",
              "    <tr>\n",
              "      <th>166828</th>\n",
              "      <td>CENTRO UNIVERSITÁRIO INTERNACIONAL</td>\n",
              "      <td>ANANINDEUA</td>\n",
              "      <td>PARCIAL</td>\n",
              "      <td>EAD</td>\n",
              "      <td>RELAÇÕES INTERNACIONAIS</td>\n",
              "      <td>CURSO A DISTÂNCIA</td>\n",
              "      <td>F</td>\n",
              "      <td>Parda</td>\n",
              "      <td>44</td>\n",
              "      <td>N</td>\n",
              "      <td>NORTE</td>\n",
              "      <td>PA</td>\n",
              "      <td>ANANINDEUA</td>\n",
              "    </tr>\n",
              "    <tr>\n",
              "      <th>166829</th>\n",
              "      <td>CENTRO UNIVERSITÁRIO INTERNACIONAL</td>\n",
              "      <td>LAJEADO</td>\n",
              "      <td>PARCIAL</td>\n",
              "      <td>EAD</td>\n",
              "      <td>MÚSICA</td>\n",
              "      <td>CURSO A DISTÂNCIA</td>\n",
              "      <td>M</td>\n",
              "      <td>Branca</td>\n",
              "      <td>23</td>\n",
              "      <td>N</td>\n",
              "      <td>SUL</td>\n",
              "      <td>RS</td>\n",
              "      <td>ESTRELA</td>\n",
              "    </tr>\n",
              "  </tbody>\n",
              "</table>\n",
              "<p>166830 rows × 13 columns</p>\n",
              "</div>"
            ],
            "text/plain": [
              "                               INSTITUICAO     MUNICIPIO     BOLSA  \\\n",
              "0                    UNIVERSIDADE PAULISTA      IPATINGA  INTEGRAL   \n",
              "1               UNIVERSIDADE ESTÁCIO DE SÁ     FORTALEZA  INTEGRAL   \n",
              "2                FACULDADE DE QUIXERAMOBIM  QUIXERAMOBIM  INTEGRAL   \n",
              "3             UNIVERSIDADE SÃO JUDAS TADEU     SAO PAULO   PARCIAL   \n",
              "4             UNIVERSIDADE SÃO JUDAS TADEU     SAO PAULO  INTEGRAL   \n",
              "...                                    ...           ...       ...   \n",
              "166825  CENTRO UNIVERSITÁRIO INTERNACIONAL     CABO FRIO   PARCIAL   \n",
              "166826  CENTRO UNIVERSITÁRIO INTERNACIONAL     CABO FRIO   PARCIAL   \n",
              "166827  CENTRO UNIVERSITÁRIO INTERNACIONAL        CANOAS   PARCIAL   \n",
              "166828  CENTRO UNIVERSITÁRIO INTERNACIONAL    ANANINDEUA   PARCIAL   \n",
              "166829  CENTRO UNIVERSITÁRIO INTERNACIONAL       LAJEADO   PARCIAL   \n",
              "\n",
              "        MODALIDADE                    CURSO              TURNO SEXO    RACA  \\\n",
              "0              EAD                PEDAGOGIA  CURSO A DISTÂNCIA    F   Parda   \n",
              "1              EAD                MARKETING  CURSO A DISTÂNCIA    M   Parda   \n",
              "2       PRESENCIAL                 FARMÁCIA            NOTURNO    M   Parda   \n",
              "3       PRESENCIAL                  DIREITO           MATUTINO    F  Branca   \n",
              "4       PRESENCIAL                  DIREITO           MATUTINO    F  Branca   \n",
              "...            ...                      ...                ...  ...     ...   \n",
              "166825         EAD            ADMINISTRAÇÃO  CURSO A DISTÂNCIA    F   Parda   \n",
              "166826         EAD  RELAÇÕES INTERNACIONAIS  CURSO A DISTÂNCIA    F   Parda   \n",
              "166827         EAD            ADMINISTRAÇÃO  CURSO A DISTÂNCIA    M  Branca   \n",
              "166828         EAD  RELAÇÕES INTERNACIONAIS  CURSO A DISTÂNCIA    F   Parda   \n",
              "166829         EAD                   MÚSICA  CURSO A DISTÂNCIA    M  Branca   \n",
              "\n",
              "        IDADE PCD    REGIAO UF_ALUNO          CIDADE_ALUNO  \n",
              "0          46   N   SUDESTE       MG  GOVERNADOR VALADARES  \n",
              "1          32   N  NORDESTE       CE             FORTALEZA  \n",
              "2          18   N  NORDESTE       CE               MOMBACA  \n",
              "3          16   N  NORDESTE       BA               IBITITA  \n",
              "4          42   N   SUDESTE       SP             SAO PAULO  \n",
              "...       ...  ..       ...      ...                   ...  \n",
              "166825     23   N   SUDESTE       RJ   SAO PEDRO DA ALDEIA  \n",
              "166826     17   N   SUDESTE       RJ              ARARUAMA  \n",
              "166827     22   N       SUL       RS                CANOAS  \n",
              "166828     44   N     NORTE       PA            ANANINDEUA  \n",
              "166829     23   N       SUL       RS               ESTRELA  \n",
              "\n",
              "[166830 rows x 13 columns]"
            ]
          },
          "metadata": {},
          "output_type": "display_data"
        }
      ],
      "source": [
        "data.to_csv(save_path, sep=';', encoding='latin1', index=False)\n",
        "display(data)"
      ]
    },
    {
      "cell_type": "markdown",
      "metadata": {
        "id": "GgcSGRZ9T-Ha"
      },
      "source": [
        "To make the charts, the following color pallete will be used:"
      ]
    },
    {
      "cell_type": "code",
      "execution_count": 10,
      "metadata": {
        "id": "xTAW1SlMUDCb"
      },
      "outputs": [
        {
          "data": {
            "image/png": "[encoded data removed]",
            "text/plain": [
              "<Figure size 1500x100 with 1 Axes>"
            ]
          },
          "metadata": {},
          "output_type": "display_data"
        }
      ],
      "source": [
        "# From brightest to darkest\n",
        "colors = [\n",
        "  \"#a6b1f7\",\n",
        "  '#949de1',\n",
        "  \"#828acb\",\n",
        "  '#7077b5',\n",
        "  '#5f65a0',\n",
        "  '#4e548c',\n",
        "  '#3e4378',\n",
        "  '#2d3264',\n",
        "  '#1e2351',\n",
        "  '#0d143f'\n",
        "]\n",
        "\n",
        "# Reversed colors' order\n",
        "colors_r = colors[::-1]\n",
        "\n",
        "plt.figure(figsize=(len(colors_r)*1.5, 1))\n",
        "\n",
        "for i, cor in enumerate(colors_r):\n",
        "    plt.bar(i, 1, color=cor)\n",
        "    plt.text(i, 0.5, cor, ha='center', va='center', color='white', fontsize=11, fontweight='bold')\n",
        "\n",
        "plt.axis('off')\n",
        "\n",
        "plt.savefig(report_path / \"palette.png\", dpi=300, bbox_inches=\"tight\")\n",
        "\n",
        "plt.show()"
      ]
    },
    {
      "cell_type": "markdown",
      "metadata": {
        "id": "SDWJtRU2rBCh"
      },
      "source": [
        "At first, let's make a bar chart, based on the 'CURSO' column, to see which courses were granted the most scholarships:"
      ]
    },
    {
      "cell_type": "code",
      "execution_count": 11,
      "metadata": {
        "id": "I1IfxZ7wrSlp"
      },
      "outputs": [
        {
          "name": "stderr",
          "output_type": "stream",
          "text": [
            "C:\\Users\\ricardo.gomes\\AppData\\Local\\Temp\\ipykernel_20212\\3092888068.py:5: UserWarning: \n",
            "The palette list has fewer values (1) than needed (10) and will cycle, which may produce an uninterpretable plot.\n",
            "  sns.countplot(data=df_filter, x='CURSO', palette=colors[3:4], hue='CURSO', order=top_courses, legend=False)\n"
          ]
        },
        {
          "data": {
            "image/png": "[encoded data removed]",
            "text/plain": [
              "<Figure size 2400x600 with 1 Axes>"
            ]
          },
          "metadata": {},
          "output_type": "display_data"
        }
      ],
      "source": [
        "top_courses = data['CURSO'].value_counts().sort_values().nlargest(10).index\n",
        "df_filter = data[data['CURSO'].isin(top_courses)]\n",
        "\n",
        "plt.figure(figsize=(24, 6)) # 24 width, 6 height\n",
        "sns.countplot(data=df_filter, x='CURSO', palette=colors[3:4], hue='CURSO', order=top_courses, legend=False)\n",
        "\n",
        "plt.title(\"Bolsas por Curso\")\n",
        "plt.xlabel(\"Curso\")\n",
        "plt.ylabel(\"Quantidade\")\n",
        "\n",
        "plt.savefig(report_path / \"scholarships_course.png\", dpi=300, bbox_inches=\"tight\")\n",
        "plt.show()"
      ]
    },
    {
      "cell_type": "markdown",
      "metadata": {
        "id": "xbUKRt56pupQ"
      },
      "source": [
        "The conclusion drawn from the chart is that the courses Law, Business Administration, and Pedagogy received the highest number of scholarships granted in 2020, showing a considerable gap compared to the other courses."
      ]
    },
    {
      "cell_type": "markdown",
      "metadata": {
        "id": "S7t7Z10_wNo-"
      },
      "source": [
        "Next, we want to examine the distribution of scholarships among the 10 courses with the highest number of grants, in order to observe the gap between full and partial scholarships.\n",
        "\n"
      ]
    },
    {
      "cell_type": "code",
      "execution_count": 12,
      "metadata": {
        "id": "VqVRiGF76E3_"
      },
      "outputs": [
        {
          "data": {
            "image/png": "[encoded data removed]",
            "text/plain": [
              "<Figure size 2500x800 with 1 Axes>"
            ]
          },
          "metadata": {},
          "output_type": "display_data"
        }
      ],
      "source": [
        "scholarships = df_filter.groupby(['CURSO', 'BOLSA']).size().reset_index(name='QTD')\n",
        "\n",
        "plt.figure(figsize=(25, 8))\n",
        "sns.barplot(data=scholarships, x='CURSO', y='QTD', hue='BOLSA', palette=colors_r[2::4])\n",
        "plt.title('Distribuição de Bolsas por Curso')\n",
        "plt.xlabel('Curso')\n",
        "plt.ylabel('Quantidade')\n",
        "\n",
        "plt.tight_layout()\n",
        "plt.savefig(report_path / \"scholarships_full_partial.png\", dpi=300, bbox_inches=\"tight\")\n",
        "plt.show()"
      ]
    },
    {
      "cell_type": "markdown",
      "metadata": {
        "id": "ToNmtFa3sL2w"
      },
      "source": [
        "In the chart, we can observe a significant gap between full and partial scholarships for most courses, with Law being the most balanced in terms of scholarship types. On the other hand, Pedagogy has around 90% full scholarships, with only a small portion being partial discounts."
      ]
    },
    {
      "cell_type": "markdown",
      "metadata": {
        "id": "nfqkSPUPBmOn"
      },
      "source": [
        "To determine how many students were granted scholarships outside their hometown, we first need to filter those who received them in their own city and then compare that to the remaining number."
      ]
    },
    {
      "cell_type": "code",
      "execution_count": 13,
      "metadata": {
        "id": "sTrWlkl1B-MB"
      },
      "outputs": [],
      "source": [
        "data['in_htown'] = data['MUNICIPIO'] == data['CIDADE_ALUNO']\n",
        "counts = data['in_htown'].value_counts()"
      ]
    },
    {
      "cell_type": "markdown",
      "metadata": {
        "id": "KhNTJif9CJKI"
      },
      "source": [
        "Now we can make a pie chart to better visualization:"
      ]
    },
    {
      "cell_type": "code",
      "execution_count": 14,
      "metadata": {
        "id": "VTatSFQKCOn6"
      },
      "outputs": [
        {
          "data": {
            "image/png": "[encoded data removed]",
            "text/plain": [
              "<Figure size 500x500 with 1 Axes>"
            ]
          },
          "metadata": {},
          "output_type": "display_data"
        }
      ],
      "source": [
        "labels = ['Para cidade natal', 'Fora da cidade natal']\n",
        "\n",
        "plt.figure(figsize=(5,5))\n",
        "\n",
        "plt.pie(counts, labels=labels, colors=colors_r[2::3], autopct='%1.1f%%', startangle=90)\n",
        "plt.title('Distribuição de bolsas em relação a cidade natal do aluno')\n",
        "plt.axis('equal')\n",
        "\n",
        "plt.savefig(report_path / \"hometown.png\", dpi=300, bbox_inches=\"tight\")\n",
        "plt.show()"
      ]
    },
    {
      "cell_type": "markdown",
      "metadata": {
        "id": "zfZeb0amIGPg"
      },
      "source": [
        "Now, let's take a look at the most popular courses per state:"
      ]
    },
    {
      "cell_type": "code",
      "execution_count": 15,
      "metadata": {
        "id": "q6Hp08gooCD1"
      },
      "outputs": [
        {
          "data": {
            "application/vnd.plotly.v1+json": {
              "config": {
                "plotlyServerURL": "https://plot.ly"
              },
              "data": [
                {
                  "hovertemplate": "CURSO=DIREITO<br>UF_ALUNO=%{x}<br>QTD=%{y}<extra></extra>",
                  "legendgroup": "DIREITO",
                  "marker": {
                    "color": "#a6b1f7",
                    "pattern": {
                      "shape": ""
                    }
                  },
                  "name": "DIREITO",
                  "orientation": "v",
                  "showlegend": true,
                  "textposition": "auto",
                  "type": "bar",
                  "x": [
                    "AC",
                    "AM",
                    "BA",
                    "CE",
                    "DF",
                    "ES",
                    "GO",
                    "MA",
                    "MG",
                    "MS",
                    "MT",
                    "PA",
                    "PB",
                    "PE",
                    "PI",
                    "PR",
                    "RJ",
                    "RN",
                    "RO",
                    "RR",
                    "RS",
                    "SC",
                    "SE",
                    "SP",
                    "TO"
                  ],
                  "xaxis": "x",
                  "y": {
                    "bdata": "wwDaAPEDCwKeAXEB7wKiA9YHswDGAKoBRQGWAtkAdANiAqMAhwEmAFMDpAFrAPQKBgE=",
                    "dtype": "i2"
                  },
                  "yaxis": "y"
                },
                {
                  "hovertemplate": "CURSO=ENFERMAGEM<br>UF_ALUNO=%{x}<br>QTD=%{y}<extra></extra>",
                  "legendgroup": "ENFERMAGEM",
                  "marker": {
                    "color": "#949de1",
                    "pattern": {
                      "shape": ""
                    }
                  },
                  "name": "ENFERMAGEM",
                  "orientation": "v",
                  "showlegend": true,
                  "textposition": "auto",
                  "type": "bar",
                  "x": [
                    "AC",
                    "AL",
                    "AP",
                    "BA",
                    "CE",
                    "DF",
                    "ES",
                    "GO",
                    "MA",
                    "PA",
                    "PB",
                    "PE",
                    "PI",
                    "RO",
                    "RR",
                    "SE",
                    "TO"
                  ],
                  "xaxis": "x",
                  "y": {
                    "bdata": "jABXAFoAeAIcAjYBBwHDAToCGALeAPQB3QAlATMAVgC0AA==",
                    "dtype": "i2"
                  },
                  "yaxis": "y"
                },
                {
                  "hovertemplate": "CURSO=PEDAGOGIA<br>UF_ALUNO=%{x}<br>QTD=%{y}<extra></extra>",
                  "legendgroup": "PEDAGOGIA",
                  "marker": {
                    "color": "#828acb",
                    "pattern": {
                      "shape": ""
                    }
                  },
                  "name": "PEDAGOGIA",
                  "orientation": "v",
                  "showlegend": true,
                  "textposition": "auto",
                  "type": "bar",
                  "x": [
                    "AC",
                    "AL",
                    "AM",
                    "AP",
                    "BA",
                    "CE",
                    "DF",
                    "ES",
                    "GO",
                    "MA",
                    "MG",
                    "MS",
                    "MT",
                    "PA",
                    "PE",
                    "PI",
                    "PR",
                    "RJ",
                    "RN",
                    "RR",
                    "RS",
                    "SC",
                    "SE",
                    "SP",
                    "TO"
                  ],
                  "xaxis": "x",
                  "y": {
                    "bdata": "gQCnAFIBiAB8A9oBCAENAQgCggEHBqEAvQAlBEgClwA9AwQCtgAjAGQDwwF6AI8LlgA=",
                    "dtype": "i2"
                  },
                  "yaxis": "y"
                },
                {
                  "hovertemplate": "CURSO=ADMINISTRAÇÃO<br>UF_ALUNO=%{x}<br>QTD=%{y}<extra></extra>",
                  "legendgroup": "ADMINISTRAÇÃO",
                  "marker": {
                    "color": "#7077b5",
                    "pattern": {
                      "shape": ""
                    }
                  },
                  "name": "ADMINISTRAÇÃO",
                  "orientation": "v",
                  "showlegend": true,
                  "textposition": "auto",
                  "type": "bar",
                  "x": [
                    "AC",
                    "AL",
                    "AM",
                    "AP",
                    "BA",
                    "CE",
                    "ES",
                    "GO",
                    "MA",
                    "MG",
                    "MS",
                    "MT",
                    "PA",
                    "PB",
                    "PE",
                    "PR",
                    "RJ",
                    "RN",
                    "RO",
                    "RS",
                    "SC",
                    "SP",
                    "TO"
                  ],
                  "xaxis": "x",
                  "y": {
                    "bdata": "dACXAFMBRABxA/QCVwHkAZkBYwaOAJIAhQLoAGoC2wNqA4gAAAGqBAUCSA2TAA==",
                    "dtype": "i2"
                  },
                  "yaxis": "y"
                },
                {
                  "hovertemplate": "CURSO=EDUCAÇÃO FÍSICA<br>UF_ALUNO=%{x}<br>QTD=%{y}<extra></extra>",
                  "legendgroup": "EDUCAÇÃO FÍSICA",
                  "marker": {
                    "color": "#5f65a0",
                    "pattern": {
                      "shape": ""
                    }
                  },
                  "name": "EDUCAÇÃO FÍSICA",
                  "orientation": "v",
                  "showlegend": true,
                  "textposition": "auto",
                  "type": "bar",
                  "x": [
                    "AL",
                    "MS",
                    "PB",
                    "PI",
                    "RN",
                    "RR",
                    "SE"
                  ],
                  "xaxis": "x",
                  "y": {
                    "bdata": "dwBwAAQBlQCmAC0AbAA=",
                    "dtype": "i2"
                  },
                  "yaxis": "y"
                },
                {
                  "hovertemplate": "CURSO=CIÊNCIAS CONTÁBEIS<br>UF_ALUNO=%{x}<br>QTD=%{y}<extra></extra>",
                  "legendgroup": "CIÊNCIAS CONTÁBEIS",
                  "marker": {
                    "color": "#4e548c",
                    "pattern": {
                      "shape": ""
                    }
                  },
                  "name": "CIÊNCIAS CONTÁBEIS",
                  "orientation": "v",
                  "showlegend": true,
                  "textposition": "auto",
                  "type": "bar",
                  "x": [
                    "AM",
                    "MG",
                    "MT",
                    "PR",
                    "RO",
                    "RS",
                    "SC"
                  ],
                  "xaxis": "x",
                  "y": {
                    "bdata": "0wD8A6oAJQITAcUCVwE=",
                    "dtype": "i2"
                  },
                  "yaxis": "y"
                },
                {
                  "hovertemplate": "CURSO=GESTÃO DE RECURSOS HUMANOS<br>UF_ALUNO=%{x}<br>QTD=%{y}<extra></extra>",
                  "legendgroup": "GESTÃO DE RECURSOS HUMANOS",
                  "marker": {
                    "color": "#3e4378",
                    "pattern": {
                      "shape": ""
                    }
                  },
                  "name": "GESTÃO DE RECURSOS HUMANOS",
                  "orientation": "v",
                  "showlegend": true,
                  "textposition": "auto",
                  "type": "bar",
                  "x": [
                    "AP",
                    "DF",
                    "RJ"
                  ],
                  "xaxis": "x",
                  "y": {
                    "bdata": "RADEAK4B",
                    "dtype": "i2"
                  },
                  "yaxis": "y"
                },
                {
                  "hovertemplate": "CURSO=PSICOLOGIA<br>UF_ALUNO=%{x}<br>QTD=%{y}<extra></extra>",
                  "legendgroup": "PSICOLOGIA",
                  "marker": {
                    "color": "#2d3264",
                    "pattern": {
                      "shape": ""
                    }
                  },
                  "name": "PSICOLOGIA",
                  "orientation": "v",
                  "showlegend": true,
                  "textposition": "auto",
                  "type": "bar",
                  "x": [
                    "SP"
                  ],
                  "xaxis": "x",
                  "y": {
                    "bdata": "lQY=",
                    "dtype": "i2"
                  },
                  "yaxis": "y"
                }
              ],
              "layout": {
                "barmode": "stack",
                "legend": {
                  "title": {
                    "text": "CURSO"
                  },
                  "tracegroupgap": 0
                },
                "template": {
                  "data": {
                    "bar": [
                      {
                        "error_x": {
                          "color": "#2a3f5f"
                        },
                        "error_y": {
                          "color": "#2a3f5f"
                        },
                        "marker": {
                          "line": {
                            "color": "#E5ECF6",
                            "width": 0.5
                          },
                          "pattern": {
                            "fillmode": "overlay",
                            "size": 10,
                            "solidity": 0.2
                          }
                        },
                        "type": "bar"
                      }
                    ],
                    "barpolar": [
                      {
                        "marker": {
                          "line": {
                            "color": "#E5ECF6",
                            "width": 0.5
                          },
                          "pattern": {
                            "fillmode": "overlay",
                            "size": 10,
                            "solidity": 0.2
                          }
                        },
                        "type": "barpolar"
                      }
                    ],
                    "carpet": [
                      {
                        "aaxis": {
                          "endlinecolor": "#2a3f5f",
                          "gridcolor": "white",
                          "linecolor": "white",
                          "minorgridcolor": "white",
                          "startlinecolor": "#2a3f5f"
                        },
                        "baxis": {
                          "endlinecolor": "#2a3f5f",
                          "gridcolor": "white",
                          "linecolor": "white",
                          "minorgridcolor": "white",
                          "startlinecolor": "#2a3f5f"
                        },
                        "type": "carpet"
                      }
                    ],
                    "choropleth": [
                      {
                        "colorbar": {
                          "outlinewidth": 0,
                          "ticks": ""
                        },
                        "type": "choropleth"
                      }
                    ],
                    "contour": [
                      {
                        "colorbar": {
                          "outlinewidth": 0,
                          "ticks": ""
                        },
                        "colorscale": [
                          [
                            0,
                            "#0d0887"
                          ],
                          [
                            0.1111111111111111,
                            "#46039f"
                          ],
                          [
                            0.2222222222222222,
                            "#7201a8"
                          ],
                          [
                            0.3333333333333333,
                            "#9c179e"
                          ],
                          [
                            0.4444444444444444,
                            "#bd3786"
                          ],
                          [
                            0.5555555555555556,
                            "#d8576b"
                          ],
                          [
                            0.6666666666666666,
                            "#ed7953"
                          ],
                          [
                            0.7777777777777778,
                            "#fb9f3a"
                          ],
                          [
                            0.8888888888888888,
                            "#fdca26"
                          ],
                          [
                            1,
                            "#f0f921"
                          ]
                        ],
                        "type": "contour"
                      }
                    ],
                    "contourcarpet": [
                      {
                        "colorbar": {
                          "outlinewidth": 0,
                          "ticks": ""
                        },
                        "type": "contourcarpet"
                      }
                    ],
                    "heatmap": [
                      {
                        "colorbar": {
                          "outlinewidth": 0,
                          "ticks": ""
                        },
                        "colorscale": [
                          [
                            0,
                            "#0d0887"
                          ],
                          [
                            0.1111111111111111,
                            "#46039f"
                          ],
                          [
                            0.2222222222222222,
                            "#7201a8"
                          ],
                          [
                            0.3333333333333333,
                            "#9c179e"
                          ],
                          [
                            0.4444444444444444,
                            "#bd3786"
                          ],
                          [
                            0.5555555555555556,
                            "#d8576b"
                          ],
                          [
                            0.6666666666666666,
                            "#ed7953"
                          ],
                          [
                            0.7777777777777778,
                            "#fb9f3a"
                          ],
                          [
                            0.8888888888888888,
                            "#fdca26"
                          ],
                          [
                            1,
                            "#f0f921"
                          ]
                        ],
                        "type": "heatmap"
                      }
                    ],
                    "histogram": [
                      {
                        "marker": {
                          "pattern": {
                            "fillmode": "overlay",
                            "size": 10,
                            "solidity": 0.2
                          }
                        },
                        "type": "histogram"
                      }
                    ],
                    "histogram2d": [
                      {
                        "colorbar": {
                          "outlinewidth": 0,
                          "ticks": ""
                        },
                        "colorscale": [
                          [
                            0,
                            "#0d0887"
                          ],
                          [
                            0.1111111111111111,
                            "#46039f"
                          ],
                          [
                            0.2222222222222222,
                            "#7201a8"
                          ],
                          [
                            0.3333333333333333,
                            "#9c179e"
                          ],
                          [
                            0.4444444444444444,
                            "#bd3786"
                          ],
                          [
                            0.5555555555555556,
                            "#d8576b"
                          ],
                          [
                            0.6666666666666666,
                            "#ed7953"
                          ],
                          [
                            0.7777777777777778,
                            "#fb9f3a"
                          ],
                          [
                            0.8888888888888888,
                            "#fdca26"
                          ],
                          [
                            1,
                            "#f0f921"
                          ]
                        ],
                        "type": "histogram2d"
                      }
                    ],
                    "histogram2dcontour": [
                      {
                        "colorbar": {
                          "outlinewidth": 0,
                          "ticks": ""
                        },
                        "colorscale": [
                          [
                            0,
                            "#0d0887"
                          ],
                          [
                            0.1111111111111111,
                            "#46039f"
                          ],
                          [
                            0.2222222222222222,
                            "#7201a8"
                          ],
                          [
                            0.3333333333333333,
                            "#9c179e"
                          ],
                          [
                            0.4444444444444444,
                            "#bd3786"
                          ],
                          [
                            0.5555555555555556,
                            "#d8576b"
                          ],
                          [
                            0.6666666666666666,
                            "#ed7953"
                          ],
                          [
                            0.7777777777777778,
                            "#fb9f3a"
                          ],
                          [
                            0.8888888888888888,
                            "#fdca26"
                          ],
                          [
                            1,
                            "#f0f921"
                          ]
                        ],
                        "type": "histogram2dcontour"
                      }
                    ],
                    "mesh3d": [
                      {
                        "colorbar": {
                          "outlinewidth": 0,
                          "ticks": ""
                        },
                        "type": "mesh3d"
                      }
                    ],
                    "parcoords": [
                      {
                        "line": {
                          "colorbar": {
                            "outlinewidth": 0,
                            "ticks": ""
                          }
                        },
                        "type": "parcoords"
                      }
                    ],
                    "pie": [
                      {
                        "automargin": true,
                        "type": "pie"
                      }
                    ],
                    "scatter": [
                      {
                        "fillpattern": {
                          "fillmode": "overlay",
                          "size": 10,
                          "solidity": 0.2
                        },
                        "type": "scatter"
                      }
                    ],
                    "scatter3d": [
                      {
                        "line": {
                          "colorbar": {
                            "outlinewidth": 0,
                            "ticks": ""
                          }
                        },
                        "marker": {
                          "colorbar": {
                            "outlinewidth": 0,
                            "ticks": ""
                          }
                        },
                        "type": "scatter3d"
                      }
                    ],
                    "scattercarpet": [
                      {
                        "marker": {
                          "colorbar": {
                            "outlinewidth": 0,
                            "ticks": ""
                          }
                        },
                        "type": "scattercarpet"
                      }
                    ],
                    "scattergeo": [
                      {
                        "marker": {
                          "colorbar": {
                            "outlinewidth": 0,
                            "ticks": ""
                          }
                        },
                        "type": "scattergeo"
                      }
                    ],
                    "scattergl": [
                      {
                        "marker": {
                          "colorbar": {
                            "outlinewidth": 0,
                            "ticks": ""
                          }
                        },
                        "type": "scattergl"
                      }
                    ],
                    "scattermap": [
                      {
                        "marker": {
                          "colorbar": {
                            "outlinewidth": 0,
                            "ticks": ""
                          }
                        },
                        "type": "scattermap"
                      }
                    ],
                    "scattermapbox": [
                      {
                        "marker": {
                          "colorbar": {
                            "outlinewidth": 0,
                            "ticks": ""
                          }
                        },
                        "type": "scattermapbox"
                      }
                    ],
                    "scatterpolar": [
                      {
                        "marker": {
                          "colorbar": {
                            "outlinewidth": 0,
                            "ticks": ""
                          }
                        },
                        "type": "scatterpolar"
                      }
                    ],
                    "scatterpolargl": [
                      {
                        "marker": {
                          "colorbar": {
                            "outlinewidth": 0,
                            "ticks": ""
                          }
                        },
                        "type": "scatterpolargl"
                      }
                    ],
                    "scatterternary": [
                      {
                        "marker": {
                          "colorbar": {
                            "outlinewidth": 0,
                            "ticks": ""
                          }
                        },
                        "type": "scatterternary"
                      }
                    ],
                    "surface": [
                      {
                        "colorbar": {
                          "outlinewidth": 0,
                          "ticks": ""
                        },
                        "colorscale": [
                          [
                            0,
                            "#0d0887"
                          ],
                          [
                            0.1111111111111111,
                            "#46039f"
                          ],
                          [
                            0.2222222222222222,
                            "#7201a8"
                          ],
                          [
                            0.3333333333333333,
                            "#9c179e"
                          ],
                          [
                            0.4444444444444444,
                            "#bd3786"
                          ],
                          [
                            0.5555555555555556,
                            "#d8576b"
                          ],
                          [
                            0.6666666666666666,
                            "#ed7953"
                          ],
                          [
                            0.7777777777777778,
                            "#fb9f3a"
                          ],
                          [
                            0.8888888888888888,
                            "#fdca26"
                          ],
                          [
                            1,
                            "#f0f921"
                          ]
                        ],
                        "type": "surface"
                      }
                    ],
                    "table": [
                      {
                        "cells": {
                          "fill": {
                            "color": "#EBF0F8"
                          },
                          "line": {
                            "color": "white"
                          }
                        },
                        "header": {
                          "fill": {
                            "color": "#C8D4E3"
                          },
                          "line": {
                            "color": "white"
                          }
                        },
                        "type": "table"
                      }
                    ]
                  },
                  "layout": {
                    "annotationdefaults": {
                      "arrowcolor": "#2a3f5f",
                      "arrowhead": 0,
                      "arrowwidth": 1
                    },
                    "autotypenumbers": "strict",
                    "coloraxis": {
                      "colorbar": {
                        "outlinewidth": 0,
                        "ticks": ""
                      }
                    },
                    "colorscale": {
                      "diverging": [
                        [
                          0,
                          "#8e0152"
                        ],
                        [
                          0.1,
                          "#c51b7d"
                        ],
                        [
                          0.2,
                          "#de77ae"
                        ],
                        [
                          0.3,
                          "#f1b6da"
                        ],
                        [
                          0.4,
                          "#fde0ef"
                        ],
                        [
                          0.5,
                          "#f7f7f7"
                        ],
                        [
                          0.6,
                          "#e6f5d0"
                        ],
                        [
                          0.7,
                          "#b8e186"
                        ],
                        [
                          0.8,
                          "#7fbc41"
                        ],
                        [
                          0.9,
                          "#4d9221"
                        ],
                        [
                          1,
                          "#276419"
                        ]
                      ],
                      "sequential": [
                        [
                          0,
                          "#0d0887"
                        ],
                        [
                          0.1111111111111111,
                          "#46039f"
                        ],
                        [
                          0.2222222222222222,
                          "#7201a8"
                        ],
                        [
                          0.3333333333333333,
                          "#9c179e"
                        ],
                        [
                          0.4444444444444444,
                          "#bd3786"
                        ],
                        [
                          0.5555555555555556,
                          "#d8576b"
                        ],
                        [
                          0.6666666666666666,
                          "#ed7953"
                        ],
                        [
                          0.7777777777777778,
                          "#fb9f3a"
                        ],
                        [
                          0.8888888888888888,
                          "#fdca26"
                        ],
                        [
                          1,
                          "#f0f921"
                        ]
                      ],
                      "sequentialminus": [
                        [
                          0,
                          "#0d0887"
                        ],
                        [
                          0.1111111111111111,
                          "#46039f"
                        ],
                        [
                          0.2222222222222222,
                          "#7201a8"
                        ],
                        [
                          0.3333333333333333,
                          "#9c179e"
                        ],
                        [
                          0.4444444444444444,
                          "#bd3786"
                        ],
                        [
                          0.5555555555555556,
                          "#d8576b"
                        ],
                        [
                          0.6666666666666666,
                          "#ed7953"
                        ],
                        [
                          0.7777777777777778,
                          "#fb9f3a"
                        ],
                        [
                          0.8888888888888888,
                          "#fdca26"
                        ],
                        [
                          1,
                          "#f0f921"
                        ]
                      ]
                    },
                    "colorway": [
                      "#636efa",
                      "#EF553B",
                      "#00cc96",
                      "#ab63fa",
                      "#FFA15A",
                      "#19d3f3",
                      "#FF6692",
                      "#B6E880",
                      "#FF97FF",
                      "#FECB52"
                    ],
                    "font": {
                      "color": "#2a3f5f"
                    },
                    "geo": {
                      "bgcolor": "white",
                      "lakecolor": "white",
                      "landcolor": "#E5ECF6",
                      "showlakes": true,
                      "showland": true,
                      "subunitcolor": "white"
                    },
                    "hoverlabel": {
                      "align": "left"
                    },
                    "hovermode": "closest",
                    "mapbox": {
                      "style": "light"
                    },
                    "paper_bgcolor": "white",
                    "plot_bgcolor": "#E5ECF6",
                    "polar": {
                      "angularaxis": {
                        "gridcolor": "white",
                        "linecolor": "white",
                        "ticks": ""
                      },
                      "bgcolor": "#E5ECF6",
                      "radialaxis": {
                        "gridcolor": "white",
                        "linecolor": "white",
                        "ticks": ""
                      }
                    },
                    "scene": {
                      "xaxis": {
                        "backgroundcolor": "#E5ECF6",
                        "gridcolor": "white",
                        "gridwidth": 2,
                        "linecolor": "white",
                        "showbackground": true,
                        "ticks": "",
                        "zerolinecolor": "white"
                      },
                      "yaxis": {
                        "backgroundcolor": "#E5ECF6",
                        "gridcolor": "white",
                        "gridwidth": 2,
                        "linecolor": "white",
                        "showbackground": true,
                        "ticks": "",
                        "zerolinecolor": "white"
                      },
                      "zaxis": {
                        "backgroundcolor": "#E5ECF6",
                        "gridcolor": "white",
                        "gridwidth": 2,
                        "linecolor": "white",
                        "showbackground": true,
                        "ticks": "",
                        "zerolinecolor": "white"
                      }
                    },
                    "shapedefaults": {
                      "line": {
                        "color": "#2a3f5f"
                      }
                    },
                    "ternary": {
                      "aaxis": {
                        "gridcolor": "white",
                        "linecolor": "white",
                        "ticks": ""
                      },
                      "baxis": {
                        "gridcolor": "white",
                        "linecolor": "white",
                        "ticks": ""
                      },
                      "bgcolor": "#E5ECF6",
                      "caxis": {
                        "gridcolor": "white",
                        "linecolor": "white",
                        "ticks": ""
                      }
                    },
                    "title": {
                      "x": 0.05
                    },
                    "xaxis": {
                      "automargin": true,
                      "gridcolor": "white",
                      "linecolor": "white",
                      "ticks": "",
                      "title": {
                        "standoff": 15
                      },
                      "zerolinecolor": "white",
                      "zerolinewidth": 2
                    },
                    "yaxis": {
                      "automargin": true,
                      "gridcolor": "white",
                      "linecolor": "white",
                      "ticks": "",
                      "title": {
                        "standoff": 15
                      },
                      "zerolinecolor": "white",
                      "zerolinewidth": 2
                    }
                  }
                },
                "title": {
                  "text": "Top 5 Cursos Mais Populares por Estado (Bolsas Concedidas)"
                },
                "xaxis": {
                  "anchor": "y",
                  "domain": [
                    0,
                    1
                  ],
                  "title": {
                    "text": "Estado"
                  }
                },
                "yaxis": {
                  "anchor": "x",
                  "domain": [
                    0,
                    1
                  ],
                  "title": {
                    "text": "Quantidade de Bolsas"
                  }
                }
              }
            }
          },
          "metadata": {},
          "output_type": "display_data"
        }
      ],
      "source": [
        "top_courses = (\n",
        "    data.groupby(['UF_ALUNO', 'CURSO'])\n",
        "      .size()\n",
        "      .reset_index(name='QTD')\n",
        ")\n",
        "\n",
        "top_courses = top_courses.sort_values(['UF_ALUNO', 'QTD'], ascending=[True, False])\n",
        "top_5_each_state = top_courses.groupby('UF_ALUNO').head(4)\n",
        "pivot_df = top_5_each_state.pivot(index='UF_ALUNO', columns='CURSO', values='QTD').fillna(0)\n",
        "\n",
        "\n",
        "fig = px.bar(\n",
        "    top_5_each_state,\n",
        "    x='UF_ALUNO',\n",
        "    y='QTD',\n",
        "    color='CURSO',\n",
        "    title='Top 5 Cursos Mais Populares por Estado (Bolsas Concedidas)',\n",
        "    color_discrete_sequence=colors\n",
        ")\n",
        "\n",
        "fig.update_layout(barmode='stack', xaxis_title='Estado', yaxis_title='Quantidade de Bolsas')\n",
        "fig.show()"
      ]
    },
    {
      "cell_type": "markdown",
      "metadata": {
        "id": "8ByT0dr9um1g"
      },
      "source": [
        "We can also gain insight from this chart into the distribution of scholarships across the states of Brazil. Noticing, then, the huge discrepancy among São Paulo, which is the most granted State, and Roraima, with the least number of students granted."
      ]
    },
    {
      "cell_type": "markdown",
      "metadata": {
        "id": "dRYZIDxppSuU"
      },
      "source": [
        "To see if the race of the students granted with scholarships are well-balanced, we need to visualize the distribuition of races per course:"
      ]
    },
    {
      "cell_type": "code",
      "execution_count": 16,
      "metadata": {
        "id": "JlahXRCVpm37"
      },
      "outputs": [
        {
          "data": {
            "application/vnd.plotly.v1+json": {
              "config": {
                "plotlyServerURL": "https://plot.ly"
              },
              "data": [
                {
                  "customdata": [
                    [
                      "Parda"
                    ],
                    [
                      "Branca"
                    ],
                    [
                      "Preta"
                    ],
                    [
                      "Amarela"
                    ]
                  ],
                  "domain": {
                    "x": [
                      0,
                      1
                    ],
                    "y": [
                      0,
                      1
                    ]
                  },
                  "hovertemplate": "RACA=%{customdata[0]}<br>QTD=%{value}<extra></extra>",
                  "labels": [
                    "Parda",
                    "Branca",
                    "Preta",
                    "Amarela"
                  ],
                  "legendgroup": "",
                  "marker": {
                    "colors": [
                      "#1e2351",
                      "#2d3264",
                      "#3e4378",
                      "#4e548c"
                    ]
                  },
                  "name": "",
                  "pull": [
                    0,
                    0,
                    0,
                    0
                  ],
                  "showlegend": true,
                  "textinfo": "percent",
                  "type": "pie",
                  "values": {
                    "bdata": "8zABAOT7AAChUgAAVAsAAA==",
                    "dtype": "i4"
                  }
                }
              ],
              "layout": {
                "legend": {
                  "title": {
                    "text": "Raças"
                  },
                  "tracegroupgap": 0
                },
                "piecolorway": [
                  "#1e2351",
                  "#2d3264",
                  "#3e4378",
                  "#4e548c",
                  "#5f65a0",
                  "#7077b5",
                  "#828acb",
                  "#949de1",
                  "#a6b1f7"
                ],
                "template": {
                  "data": {
                    "bar": [
                      {
                        "error_x": {
                          "color": "#2a3f5f"
                        },
                        "error_y": {
                          "color": "#2a3f5f"
                        },
                        "marker": {
                          "line": {
                            "color": "#E5ECF6",
                            "width": 0.5
                          },
                          "pattern": {
                            "fillmode": "overlay",
                            "size": 10,
                            "solidity": 0.2
                          }
                        },
                        "type": "bar"
                      }
                    ],
                    "barpolar": [
                      {
                        "marker": {
                          "line": {
                            "color": "#E5ECF6",
                            "width": 0.5
                          },
                          "pattern": {
                            "fillmode": "overlay",
                            "size": 10,
                            "solidity": 0.2
                          }
                        },
                        "type": "barpolar"
                      }
                    ],
                    "carpet": [
                      {
                        "aaxis": {
                          "endlinecolor": "#2a3f5f",
                          "gridcolor": "white",
                          "linecolor": "white",
                          "minorgridcolor": "white",
                          "startlinecolor": "#2a3f5f"
                        },
                        "baxis": {
                          "endlinecolor": "#2a3f5f",
                          "gridcolor": "white",
                          "linecolor": "white",
                          "minorgridcolor": "white",
                          "startlinecolor": "#2a3f5f"
                        },
                        "type": "carpet"
                      }
                    ],
                    "choropleth": [
                      {
                        "colorbar": {
                          "outlinewidth": 0,
                          "ticks": ""
                        },
                        "type": "choropleth"
                      }
                    ],
                    "contour": [
                      {
                        "colorbar": {
                          "outlinewidth": 0,
                          "ticks": ""
                        },
                        "colorscale": [
                          [
                            0,
                            "#0d0887"
                          ],
                          [
                            0.1111111111111111,
                            "#46039f"
                          ],
                          [
                            0.2222222222222222,
                            "#7201a8"
                          ],
                          [
                            0.3333333333333333,
                            "#9c179e"
                          ],
                          [
                            0.4444444444444444,
                            "#bd3786"
                          ],
                          [
                            0.5555555555555556,
                            "#d8576b"
                          ],
                          [
                            0.6666666666666666,
                            "#ed7953"
                          ],
                          [
                            0.7777777777777778,
                            "#fb9f3a"
                          ],
                          [
                            0.8888888888888888,
                            "#fdca26"
                          ],
                          [
                            1,
                            "#f0f921"
                          ]
                        ],
                        "type": "contour"
                      }
                    ],
                    "contourcarpet": [
                      {
                        "colorbar": {
                          "outlinewidth": 0,
                          "ticks": ""
                        },
                        "type": "contourcarpet"
                      }
                    ],
                    "heatmap": [
                      {
                        "colorbar": {
                          "outlinewidth": 0,
                          "ticks": ""
                        },
                        "colorscale": [
                          [
                            0,
                            "#0d0887"
                          ],
                          [
                            0.1111111111111111,
                            "#46039f"
                          ],
                          [
                            0.2222222222222222,
                            "#7201a8"
                          ],
                          [
                            0.3333333333333333,
                            "#9c179e"
                          ],
                          [
                            0.4444444444444444,
                            "#bd3786"
                          ],
                          [
                            0.5555555555555556,
                            "#d8576b"
                          ],
                          [
                            0.6666666666666666,
                            "#ed7953"
                          ],
                          [
                            0.7777777777777778,
                            "#fb9f3a"
                          ],
                          [
                            0.8888888888888888,
                            "#fdca26"
                          ],
                          [
                            1,
                            "#f0f921"
                          ]
                        ],
                        "type": "heatmap"
                      }
                    ],
                    "histogram": [
                      {
                        "marker": {
                          "pattern": {
                            "fillmode": "overlay",
                            "size": 10,
                            "solidity": 0.2
                          }
                        },
                        "type": "histogram"
                      }
                    ],
                    "histogram2d": [
                      {
                        "colorbar": {
                          "outlinewidth": 0,
                          "ticks": ""
                        },
                        "colorscale": [
                          [
                            0,
                            "#0d0887"
                          ],
                          [
                            0.1111111111111111,
                            "#46039f"
                          ],
                          [
                            0.2222222222222222,
                            "#7201a8"
                          ],
                          [
                            0.3333333333333333,
                            "#9c179e"
                          ],
                          [
                            0.4444444444444444,
                            "#bd3786"
                          ],
                          [
                            0.5555555555555556,
                            "#d8576b"
                          ],
                          [
                            0.6666666666666666,
                            "#ed7953"
                          ],
                          [
                            0.7777777777777778,
                            "#fb9f3a"
                          ],
                          [
                            0.8888888888888888,
                            "#fdca26"
                          ],
                          [
                            1,
                            "#f0f921"
                          ]
                        ],
                        "type": "histogram2d"
                      }
                    ],
                    "histogram2dcontour": [
                      {
                        "colorbar": {
                          "outlinewidth": 0,
                          "ticks": ""
                        },
                        "colorscale": [
                          [
                            0,
                            "#0d0887"
                          ],
                          [
                            0.1111111111111111,
                            "#46039f"
                          ],
                          [
                            0.2222222222222222,
                            "#7201a8"
                          ],
                          [
                            0.3333333333333333,
                            "#9c179e"
                          ],
                          [
                            0.4444444444444444,
                            "#bd3786"
                          ],
                          [
                            0.5555555555555556,
                            "#d8576b"
                          ],
                          [
                            0.6666666666666666,
                            "#ed7953"
                          ],
                          [
                            0.7777777777777778,
                            "#fb9f3a"
                          ],
                          [
                            0.8888888888888888,
                            "#fdca26"
                          ],
                          [
                            1,
                            "#f0f921"
                          ]
                        ],
                        "type": "histogram2dcontour"
                      }
                    ],
                    "mesh3d": [
                      {
                        "colorbar": {
                          "outlinewidth": 0,
                          "ticks": ""
                        },
                        "type": "mesh3d"
                      }
                    ],
                    "parcoords": [
                      {
                        "line": {
                          "colorbar": {
                            "outlinewidth": 0,
                            "ticks": ""
                          }
                        },
                        "type": "parcoords"
                      }
                    ],
                    "pie": [
                      {
                        "automargin": true,
                        "type": "pie"
                      }
                    ],
                    "scatter": [
                      {
                        "fillpattern": {
                          "fillmode": "overlay",
                          "size": 10,
                          "solidity": 0.2
                        },
                        "type": "scatter"
                      }
                    ],
                    "scatter3d": [
                      {
                        "line": {
                          "colorbar": {
                            "outlinewidth": 0,
                            "ticks": ""
                          }
                        },
                        "marker": {
                          "colorbar": {
                            "outlinewidth": 0,
                            "ticks": ""
                          }
                        },
                        "type": "scatter3d"
                      }
                    ],
                    "scattercarpet": [
                      {
                        "marker": {
                          "colorbar": {
                            "outlinewidth": 0,
                            "ticks": ""
                          }
                        },
                        "type": "scattercarpet"
                      }
                    ],
                    "scattergeo": [
                      {
                        "marker": {
                          "colorbar": {
                            "outlinewidth": 0,
                            "ticks": ""
                          }
                        },
                        "type": "scattergeo"
                      }
                    ],
                    "scattergl": [
                      {
                        "marker": {
                          "colorbar": {
                            "outlinewidth": 0,
                            "ticks": ""
                          }
                        },
                        "type": "scattergl"
                      }
                    ],
                    "scattermap": [
                      {
                        "marker": {
                          "colorbar": {
                            "outlinewidth": 0,
                            "ticks": ""
                          }
                        },
                        "type": "scattermap"
                      }
                    ],
                    "scattermapbox": [
                      {
                        "marker": {
                          "colorbar": {
                            "outlinewidth": 0,
                            "ticks": ""
                          }
                        },
                        "type": "scattermapbox"
                      }
                    ],
                    "scatterpolar": [
                      {
                        "marker": {
                          "colorbar": {
                            "outlinewidth": 0,
                            "ticks": ""
                          }
                        },
                        "type": "scatterpolar"
                      }
                    ],
                    "scatterpolargl": [
                      {
                        "marker": {
                          "colorbar": {
                            "outlinewidth": 0,
                            "ticks": ""
                          }
                        },
                        "type": "scatterpolargl"
                      }
                    ],
                    "scatterternary": [
                      {
                        "marker": {
                          "colorbar": {
                            "outlinewidth": 0,
                            "ticks": ""
                          }
                        },
                        "type": "scatterternary"
                      }
                    ],
                    "surface": [
                      {
                        "colorbar": {
                          "outlinewidth": 0,
                          "ticks": ""
                        },
                        "colorscale": [
                          [
                            0,
                            "#0d0887"
                          ],
                          [
                            0.1111111111111111,
                            "#46039f"
                          ],
                          [
                            0.2222222222222222,
                            "#7201a8"
                          ],
                          [
                            0.3333333333333333,
                            "#9c179e"
                          ],
                          [
                            0.4444444444444444,
                            "#bd3786"
                          ],
                          [
                            0.5555555555555556,
                            "#d8576b"
                          ],
                          [
                            0.6666666666666666,
                            "#ed7953"
                          ],
                          [
                            0.7777777777777778,
                            "#fb9f3a"
                          ],
                          [
                            0.8888888888888888,
                            "#fdca26"
                          ],
                          [
                            1,
                            "#f0f921"
                          ]
                        ],
                        "type": "surface"
                      }
                    ],
                    "table": [
                      {
                        "cells": {
                          "fill": {
                            "color": "#EBF0F8"
                          },
                          "line": {
                            "color": "white"
                          }
                        },
                        "header": {
                          "fill": {
                            "color": "#C8D4E3"
                          },
                          "line": {
                            "color": "white"
                          }
                        },
                        "type": "table"
                      }
                    ]
                  },
                  "layout": {
                    "annotationdefaults": {
                      "arrowcolor": "#2a3f5f",
                      "arrowhead": 0,
                      "arrowwidth": 1
                    },
                    "autotypenumbers": "strict",
                    "coloraxis": {
                      "colorbar": {
                        "outlinewidth": 0,
                        "ticks": ""
                      }
                    },
                    "colorscale": {
                      "diverging": [
                        [
                          0,
                          "#8e0152"
                        ],
                        [
                          0.1,
                          "#c51b7d"
                        ],
                        [
                          0.2,
                          "#de77ae"
                        ],
                        [
                          0.3,
                          "#f1b6da"
                        ],
                        [
                          0.4,
                          "#fde0ef"
                        ],
                        [
                          0.5,
                          "#f7f7f7"
                        ],
                        [
                          0.6,
                          "#e6f5d0"
                        ],
                        [
                          0.7,
                          "#b8e186"
                        ],
                        [
                          0.8,
                          "#7fbc41"
                        ],
                        [
                          0.9,
                          "#4d9221"
                        ],
                        [
                          1,
                          "#276419"
                        ]
                      ],
                      "sequential": [
                        [
                          0,
                          "#0d0887"
                        ],
                        [
                          0.1111111111111111,
                          "#46039f"
                        ],
                        [
                          0.2222222222222222,
                          "#7201a8"
                        ],
                        [
                          0.3333333333333333,
                          "#9c179e"
                        ],
                        [
                          0.4444444444444444,
                          "#bd3786"
                        ],
                        [
                          0.5555555555555556,
                          "#d8576b"
                        ],
                        [
                          0.6666666666666666,
                          "#ed7953"
                        ],
                        [
                          0.7777777777777778,
                          "#fb9f3a"
                        ],
                        [
                          0.8888888888888888,
                          "#fdca26"
                        ],
                        [
                          1,
                          "#f0f921"
                        ]
                      ],
                      "sequentialminus": [
                        [
                          0,
                          "#0d0887"
                        ],
                        [
                          0.1111111111111111,
                          "#46039f"
                        ],
                        [
                          0.2222222222222222,
                          "#7201a8"
                        ],
                        [
                          0.3333333333333333,
                          "#9c179e"
                        ],
                        [
                          0.4444444444444444,
                          "#bd3786"
                        ],
                        [
                          0.5555555555555556,
                          "#d8576b"
                        ],
                        [
                          0.6666666666666666,
                          "#ed7953"
                        ],
                        [
                          0.7777777777777778,
                          "#fb9f3a"
                        ],
                        [
                          0.8888888888888888,
                          "#fdca26"
                        ],
                        [
                          1,
                          "#f0f921"
                        ]
                      ]
                    },
                    "colorway": [
                      "#636efa",
                      "#EF553B",
                      "#00cc96",
                      "#ab63fa",
                      "#FFA15A",
                      "#19d3f3",
                      "#FF6692",
                      "#B6E880",
                      "#FF97FF",
                      "#FECB52"
                    ],
                    "font": {
                      "color": "#2a3f5f"
                    },
                    "geo": {
                      "bgcolor": "white",
                      "lakecolor": "white",
                      "landcolor": "#E5ECF6",
                      "showlakes": true,
                      "showland": true,
                      "subunitcolor": "white"
                    },
                    "hoverlabel": {
                      "align": "left"
                    },
                    "hovermode": "closest",
                    "mapbox": {
                      "style": "light"
                    },
                    "paper_bgcolor": "white",
                    "plot_bgcolor": "#E5ECF6",
                    "polar": {
                      "angularaxis": {
                        "gridcolor": "white",
                        "linecolor": "white",
                        "ticks": ""
                      },
                      "bgcolor": "#E5ECF6",
                      "radialaxis": {
                        "gridcolor": "white",
                        "linecolor": "white",
                        "ticks": ""
                      }
                    },
                    "scene": {
                      "xaxis": {
                        "backgroundcolor": "#E5ECF6",
                        "gridcolor": "white",
                        "gridwidth": 2,
                        "linecolor": "white",
                        "showbackground": true,
                        "ticks": "",
                        "zerolinecolor": "white"
                      },
                      "yaxis": {
                        "backgroundcolor": "#E5ECF6",
                        "gridcolor": "white",
                        "gridwidth": 2,
                        "linecolor": "white",
                        "showbackground": true,
                        "ticks": "",
                        "zerolinecolor": "white"
                      },
                      "zaxis": {
                        "backgroundcolor": "#E5ECF6",
                        "gridcolor": "white",
                        "gridwidth": 2,
                        "linecolor": "white",
                        "showbackground": true,
                        "ticks": "",
                        "zerolinecolor": "white"
                      }
                    },
                    "shapedefaults": {
                      "line": {
                        "color": "#2a3f5f"
                      }
                    },
                    "ternary": {
                      "aaxis": {
                        "gridcolor": "white",
                        "linecolor": "white",
                        "ticks": ""
                      },
                      "baxis": {
                        "gridcolor": "white",
                        "linecolor": "white",
                        "ticks": ""
                      },
                      "bgcolor": "#E5ECF6",
                      "caxis": {
                        "gridcolor": "white",
                        "linecolor": "white",
                        "ticks": ""
                      }
                    },
                    "title": {
                      "x": 0.05
                    },
                    "xaxis": {
                      "automargin": true,
                      "gridcolor": "white",
                      "linecolor": "white",
                      "ticks": "",
                      "title": {
                        "standoff": 15
                      },
                      "zerolinecolor": "white",
                      "zerolinewidth": 2
                    },
                    "yaxis": {
                      "automargin": true,
                      "gridcolor": "white",
                      "linecolor": "white",
                      "ticks": "",
                      "title": {
                        "standoff": 15
                      },
                      "zerolinecolor": "white",
                      "zerolinewidth": 2
                    }
                  }
                },
                "title": {
                  "text": "Distribuição de raça de estudante"
                }
              }
            }
          },
          "metadata": {},
          "output_type": "display_data"
        }
      ],
      "source": [
        "datapie = data['RACA'].value_counts().nlargest(4).reset_index()\n",
        "datapie.columns = ['RACA', 'QTD']\n",
        "\n",
        "fig = px.pie(\n",
        "    datapie,\n",
        "    names='RACA',\n",
        "    values='QTD',\n",
        "    color='RACA',\n",
        "    color_discrete_sequence=colors_r[1::],\n",
        "    title='Distribuição de raça de estudante'\n",
        ")\n",
        "\n",
        "fig.update_traces(textinfo='percent', pull=[0,0,0,0])\n",
        "fig.update_layout(legend_title_text='Raças')\n",
        "\n",
        "fig.write_image(report_path / \"race_students.png\", scale=3)\n",
        "\n",
        "fig.show()"
      ]
    },
    {
      "cell_type": "markdown",
      "metadata": {
        "id": "2maAytvn2OyY"
      },
      "source": [
        "Another insight we can get is \"How is the distribuiton of the student's sex in each age?\".\n",
        "This is important to see if the age factor has some influence under the gender of the participants and the access to scholarships in Brazil:"
      ]
    },
    {
      "cell_type": "code",
      "execution_count": 17,
      "metadata": {
        "id": "EEA_aujWprYt"
      },
      "outputs": [
        {
          "data": {
            "text/plain": [
              "<Figure size 1500x700 with 0 Axes>"
            ]
          },
          "metadata": {},
          "output_type": "display_data"
        },
        {
          "data": {
            "image/png": "[encoded data removed]",
            "text/plain": [
              "<Figure size 1500x700 with 1 Axes>"
            ]
          },
          "metadata": {},
          "output_type": "display_data"
        }
      ],
      "source": [
        "plt.figure(figsize=(15,7))\n",
        "filt_age = data[(data['IDADE'] > 15) & (data['IDADE'] <= 60)]\n",
        "contagem = filt_age.groupby(['IDADE', 'SEXO']).size().unstack(fill_value=0)\n",
        "\n",
        "palette = colors_r[8:9]\n",
        "\n",
        "contagem.plot(figsize=(15,7), kind='bar', stacked=True, color=colors[::3])\n",
        "plt.title(\"Distribuição Sexo por idade\")\n",
        "plt.xlabel('Idade')\n",
        "plt.ylabel('Contemplados')\n",
        "plt.tight_layout()\n",
        "\n",
        "plt.savefig(report_path / \"gender_age.png\", dpi=300, bbox_inches=\"tight\")\n",
        "plt.show()"
      ]
    },
    {
      "cell_type": "markdown",
      "metadata": {
        "id": "yPgvHeSDCNUA"
      },
      "source": [
        "For a final comprehension, we can observe the distribuition of the students skincolors, so it's possible to determine if the scholarships are duly fair in their distribution to people."
      ]
    },
    {
      "cell_type": "code",
      "execution_count": 18,
      "metadata": {
        "id": "MHLdupZ4ysrT"
      },
      "outputs": [
        {
          "data": {
            "application/vnd.plotly.v1+json": {
              "config": {
                "plotlyServerURL": "https://plot.ly"
              },
              "data": [
                {
                  "customdata": [
                    [
                      "Parda"
                    ],
                    [
                      "Branca"
                    ],
                    [
                      "Preta"
                    ],
                    [
                      "Amarela"
                    ]
                  ],
                  "domain": {
                    "x": [
                      0,
                      1
                    ],
                    "y": [
                      0,
                      1
                    ]
                  },
                  "hovertemplate": "RACA=%{customdata[0]}<br>QTD=%{value}<extra></extra>",
                  "labels": [
                    "Parda",
                    "Branca",
                    "Preta",
                    "Amarela"
                  ],
                  "legendgroup": "",
                  "marker": {
                    "colors": [
                      "#7077b5",
                      "#a6b1f7",
                      "#3e4378",
                      "#828acb"
                    ]
                  },
                  "name": "",
                  "pull": [
                    0,
                    0,
                    0,
                    0
                  ],
                  "showlegend": true,
                  "textinfo": "percent",
                  "type": "pie",
                  "values": {
                    "bdata": "8zABAOT7AAChUgAAVAsAAA==",
                    "dtype": "i4"
                  }
                }
              ],
              "layout": {
                "legend": {
                  "title": {
                    "text": "Raças"
                  },
                  "tracegroupgap": 0
                },
                "piecolorway": [
                  "#7077b5",
                  "#a6b1f7",
                  "#3e4378",
                  "#828acb"
                ],
                "template": {
                  "data": {
                    "bar": [
                      {
                        "error_x": {
                          "color": "#2a3f5f"
                        },
                        "error_y": {
                          "color": "#2a3f5f"
                        },
                        "marker": {
                          "line": {
                            "color": "#E5ECF6",
                            "width": 0.5
                          },
                          "pattern": {
                            "fillmode": "overlay",
                            "size": 10,
                            "solidity": 0.2
                          }
                        },
                        "type": "bar"
                      }
                    ],
                    "barpolar": [
                      {
                        "marker": {
                          "line": {
                            "color": "#E5ECF6",
                            "width": 0.5
                          },
                          "pattern": {
                            "fillmode": "overlay",
                            "size": 10,
                            "solidity": 0.2
                          }
                        },
                        "type": "barpolar"
                      }
                    ],
                    "carpet": [
                      {
                        "aaxis": {
                          "endlinecolor": "#2a3f5f",
                          "gridcolor": "white",
                          "linecolor": "white",
                          "minorgridcolor": "white",
                          "startlinecolor": "#2a3f5f"
                        },
                        "baxis": {
                          "endlinecolor": "#2a3f5f",
                          "gridcolor": "white",
                          "linecolor": "white",
                          "minorgridcolor": "white",
                          "startlinecolor": "#2a3f5f"
                        },
                        "type": "carpet"
                      }
                    ],
                    "choropleth": [
                      {
                        "colorbar": {
                          "outlinewidth": 0,
                          "ticks": ""
                        },
                        "type": "choropleth"
                      }
                    ],
                    "contour": [
                      {
                        "colorbar": {
                          "outlinewidth": 0,
                          "ticks": ""
                        },
                        "colorscale": [
                          [
                            0,
                            "#0d0887"
                          ],
                          [
                            0.1111111111111111,
                            "#46039f"
                          ],
                          [
                            0.2222222222222222,
                            "#7201a8"
                          ],
                          [
                            0.3333333333333333,
                            "#9c179e"
                          ],
                          [
                            0.4444444444444444,
                            "#bd3786"
                          ],
                          [
                            0.5555555555555556,
                            "#d8576b"
                          ],
                          [
                            0.6666666666666666,
                            "#ed7953"
                          ],
                          [
                            0.7777777777777778,
                            "#fb9f3a"
                          ],
                          [
                            0.8888888888888888,
                            "#fdca26"
                          ],
                          [
                            1,
                            "#f0f921"
                          ]
                        ],
                        "type": "contour"
                      }
                    ],
                    "contourcarpet": [
                      {
                        "colorbar": {
                          "outlinewidth": 0,
                          "ticks": ""
                        },
                        "type": "contourcarpet"
                      }
                    ],
                    "heatmap": [
                      {
                        "colorbar": {
                          "outlinewidth": 0,
                          "ticks": ""
                        },
                        "colorscale": [
                          [
                            0,
                            "#0d0887"
                          ],
                          [
                            0.1111111111111111,
                            "#46039f"
                          ],
                          [
                            0.2222222222222222,
                            "#7201a8"
                          ],
                          [
                            0.3333333333333333,
                            "#9c179e"
                          ],
                          [
                            0.4444444444444444,
                            "#bd3786"
                          ],
                          [
                            0.5555555555555556,
                            "#d8576b"
                          ],
                          [
                            0.6666666666666666,
                            "#ed7953"
                          ],
                          [
                            0.7777777777777778,
                            "#fb9f3a"
                          ],
                          [
                            0.8888888888888888,
                            "#fdca26"
                          ],
                          [
                            1,
                            "#f0f921"
                          ]
                        ],
                        "type": "heatmap"
                      }
                    ],
                    "histogram": [
                      {
                        "marker": {
                          "pattern": {
                            "fillmode": "overlay",
                            "size": 10,
                            "solidity": 0.2
                          }
                        },
                        "type": "histogram"
                      }
                    ],
                    "histogram2d": [
                      {
                        "colorbar": {
                          "outlinewidth": 0,
                          "ticks": ""
                        },
                        "colorscale": [
                          [
                            0,
                            "#0d0887"
                          ],
                          [
                            0.1111111111111111,
                            "#46039f"
                          ],
                          [
                            0.2222222222222222,
                            "#7201a8"
                          ],
                          [
                            0.3333333333333333,
                            "#9c179e"
                          ],
                          [
                            0.4444444444444444,
                            "#bd3786"
                          ],
                          [
                            0.5555555555555556,
                            "#d8576b"
                          ],
                          [
                            0.6666666666666666,
                            "#ed7953"
                          ],
                          [
                            0.7777777777777778,
                            "#fb9f3a"
                          ],
                          [
                            0.8888888888888888,
                            "#fdca26"
                          ],
                          [
                            1,
                            "#f0f921"
                          ]
                        ],
                        "type": "histogram2d"
                      }
                    ],
                    "histogram2dcontour": [
                      {
                        "colorbar": {
                          "outlinewidth": 0,
                          "ticks": ""
                        },
                        "colorscale": [
                          [
                            0,
                            "#0d0887"
                          ],
                          [
                            0.1111111111111111,
                            "#46039f"
                          ],
                          [
                            0.2222222222222222,
                            "#7201a8"
                          ],
                          [
                            0.3333333333333333,
                            "#9c179e"
                          ],
                          [
                            0.4444444444444444,
                            "#bd3786"
                          ],
                          [
                            0.5555555555555556,
                            "#d8576b"
                          ],
                          [
                            0.6666666666666666,
                            "#ed7953"
                          ],
                          [
                            0.7777777777777778,
                            "#fb9f3a"
                          ],
                          [
                            0.8888888888888888,
                            "#fdca26"
                          ],
                          [
                            1,
                            "#f0f921"
                          ]
                        ],
                        "type": "histogram2dcontour"
                      }
                    ],
                    "mesh3d": [
                      {
                        "colorbar": {
                          "outlinewidth": 0,
                          "ticks": ""
                        },
                        "type": "mesh3d"
                      }
                    ],
                    "parcoords": [
                      {
                        "line": {
                          "colorbar": {
                            "outlinewidth": 0,
                            "ticks": ""
                          }
                        },
                        "type": "parcoords"
                      }
                    ],
                    "pie": [
                      {
                        "automargin": true,
                        "type": "pie"
                      }
                    ],
                    "scatter": [
                      {
                        "fillpattern": {
                          "fillmode": "overlay",
                          "size": 10,
                          "solidity": 0.2
                        },
                        "type": "scatter"
                      }
                    ],
                    "scatter3d": [
                      {
                        "line": {
                          "colorbar": {
                            "outlinewidth": 0,
                            "ticks": ""
                          }
                        },
                        "marker": {
                          "colorbar": {
                            "outlinewidth": 0,
                            "ticks": ""
                          }
                        },
                        "type": "scatter3d"
                      }
                    ],
                    "scattercarpet": [
                      {
                        "marker": {
                          "colorbar": {
                            "outlinewidth": 0,
                            "ticks": ""
                          }
                        },
                        "type": "scattercarpet"
                      }
                    ],
                    "scattergeo": [
                      {
                        "marker": {
                          "colorbar": {
                            "outlinewidth": 0,
                            "ticks": ""
                          }
                        },
                        "type": "scattergeo"
                      }
                    ],
                    "scattergl": [
                      {
                        "marker": {
                          "colorbar": {
                            "outlinewidth": 0,
                            "ticks": ""
                          }
                        },
                        "type": "scattergl"
                      }
                    ],
                    "scattermap": [
                      {
                        "marker": {
                          "colorbar": {
                            "outlinewidth": 0,
                            "ticks": ""
                          }
                        },
                        "type": "scattermap"
                      }
                    ],
                    "scattermapbox": [
                      {
                        "marker": {
                          "colorbar": {
                            "outlinewidth": 0,
                            "ticks": ""
                          }
                        },
                        "type": "scattermapbox"
                      }
                    ],
                    "scatterpolar": [
                      {
                        "marker": {
                          "colorbar": {
                            "outlinewidth": 0,
                            "ticks": ""
                          }
                        },
                        "type": "scatterpolar"
                      }
                    ],
                    "scatterpolargl": [
                      {
                        "marker": {
                          "colorbar": {
                            "outlinewidth": 0,
                            "ticks": ""
                          }
                        },
                        "type": "scatterpolargl"
                      }
                    ],
                    "scatterternary": [
                      {
                        "marker": {
                          "colorbar": {
                            "outlinewidth": 0,
                            "ticks": ""
                          }
                        },
                        "type": "scatterternary"
                      }
                    ],
                    "surface": [
                      {
                        "colorbar": {
                          "outlinewidth": 0,
                          "ticks": ""
                        },
                        "colorscale": [
                          [
                            0,
                            "#0d0887"
                          ],
                          [
                            0.1111111111111111,
                            "#46039f"
                          ],
                          [
                            0.2222222222222222,
                            "#7201a8"
                          ],
                          [
                            0.3333333333333333,
                            "#9c179e"
                          ],
                          [
                            0.4444444444444444,
                            "#bd3786"
                          ],
                          [
                            0.5555555555555556,
                            "#d8576b"
                          ],
                          [
                            0.6666666666666666,
                            "#ed7953"
                          ],
                          [
                            0.7777777777777778,
                            "#fb9f3a"
                          ],
                          [
                            0.8888888888888888,
                            "#fdca26"
                          ],
                          [
                            1,
                            "#f0f921"
                          ]
                        ],
                        "type": "surface"
                      }
                    ],
                    "table": [
                      {
                        "cells": {
                          "fill": {
                            "color": "#EBF0F8"
                          },
                          "line": {
                            "color": "white"
                          }
                        },
                        "header": {
                          "fill": {
                            "color": "#C8D4E3"
                          },
                          "line": {
                            "color": "white"
                          }
                        },
                        "type": "table"
                      }
                    ]
                  },
                  "layout": {
                    "annotationdefaults": {
                      "arrowcolor": "#2a3f5f",
                      "arrowhead": 0,
                      "arrowwidth": 1
                    },
                    "autotypenumbers": "strict",
                    "coloraxis": {
                      "colorbar": {
                        "outlinewidth": 0,
                        "ticks": ""
                      }
                    },
                    "colorscale": {
                      "diverging": [
                        [
                          0,
                          "#8e0152"
                        ],
                        [
                          0.1,
                          "#c51b7d"
                        ],
                        [
                          0.2,
                          "#de77ae"
                        ],
                        [
                          0.3,
                          "#f1b6da"
                        ],
                        [
                          0.4,
                          "#fde0ef"
                        ],
                        [
                          0.5,
                          "#f7f7f7"
                        ],
                        [
                          0.6,
                          "#e6f5d0"
                        ],
                        [
                          0.7,
                          "#b8e186"
                        ],
                        [
                          0.8,
                          "#7fbc41"
                        ],
                        [
                          0.9,
                          "#4d9221"
                        ],
                        [
                          1,
                          "#276419"
                        ]
                      ],
                      "sequential": [
                        [
                          0,
                          "#0d0887"
                        ],
                        [
                          0.1111111111111111,
                          "#46039f"
                        ],
                        [
                          0.2222222222222222,
                          "#7201a8"
                        ],
                        [
                          0.3333333333333333,
                          "#9c179e"
                        ],
                        [
                          0.4444444444444444,
                          "#bd3786"
                        ],
                        [
                          0.5555555555555556,
                          "#d8576b"
                        ],
                        [
                          0.6666666666666666,
                          "#ed7953"
                        ],
                        [
                          0.7777777777777778,
                          "#fb9f3a"
                        ],
                        [
                          0.8888888888888888,
                          "#fdca26"
                        ],
                        [
                          1,
                          "#f0f921"
                        ]
                      ],
                      "sequentialminus": [
                        [
                          0,
                          "#0d0887"
                        ],
                        [
                          0.1111111111111111,
                          "#46039f"
                        ],
                        [
                          0.2222222222222222,
                          "#7201a8"
                        ],
                        [
                          0.3333333333333333,
                          "#9c179e"
                        ],
                        [
                          0.4444444444444444,
                          "#bd3786"
                        ],
                        [
                          0.5555555555555556,
                          "#d8576b"
                        ],
                        [
                          0.6666666666666666,
                          "#ed7953"
                        ],
                        [
                          0.7777777777777778,
                          "#fb9f3a"
                        ],
                        [
                          0.8888888888888888,
                          "#fdca26"
                        ],
                        [
                          1,
                          "#f0f921"
                        ]
                      ]
                    },
                    "colorway": [
                      "#636efa",
                      "#EF553B",
                      "#00cc96",
                      "#ab63fa",
                      "#FFA15A",
                      "#19d3f3",
                      "#FF6692",
                      "#B6E880",
                      "#FF97FF",
                      "#FECB52"
                    ],
                    "font": {
                      "color": "#2a3f5f"
                    },
                    "geo": {
                      "bgcolor": "white",
                      "lakecolor": "white",
                      "landcolor": "#E5ECF6",
                      "showlakes": true,
                      "showland": true,
                      "subunitcolor": "white"
                    },
                    "hoverlabel": {
                      "align": "left"
                    },
                    "hovermode": "closest",
                    "mapbox": {
                      "style": "light"
                    },
                    "paper_bgcolor": "white",
                    "plot_bgcolor": "#E5ECF6",
                    "polar": {
                      "angularaxis": {
                        "gridcolor": "white",
                        "linecolor": "white",
                        "ticks": ""
                      },
                      "bgcolor": "#E5ECF6",
                      "radialaxis": {
                        "gridcolor": "white",
                        "linecolor": "white",
                        "ticks": ""
                      }
                    },
                    "scene": {
                      "xaxis": {
                        "backgroundcolor": "#E5ECF6",
                        "gridcolor": "white",
                        "gridwidth": 2,
                        "linecolor": "white",
                        "showbackground": true,
                        "ticks": "",
                        "zerolinecolor": "white"
                      },
                      "yaxis": {
                        "backgroundcolor": "#E5ECF6",
                        "gridcolor": "white",
                        "gridwidth": 2,
                        "linecolor": "white",
                        "showbackground": true,
                        "ticks": "",
                        "zerolinecolor": "white"
                      },
                      "zaxis": {
                        "backgroundcolor": "#E5ECF6",
                        "gridcolor": "white",
                        "gridwidth": 2,
                        "linecolor": "white",
                        "showbackground": true,
                        "ticks": "",
                        "zerolinecolor": "white"
                      }
                    },
                    "shapedefaults": {
                      "line": {
                        "color": "#2a3f5f"
                      }
                    },
                    "ternary": {
                      "aaxis": {
                        "gridcolor": "white",
                        "linecolor": "white",
                        "ticks": ""
                      },
                      "baxis": {
                        "gridcolor": "white",
                        "linecolor": "white",
                        "ticks": ""
                      },
                      "bgcolor": "#E5ECF6",
                      "caxis": {
                        "gridcolor": "white",
                        "linecolor": "white",
                        "ticks": ""
                      }
                    },
                    "title": {
                      "x": 0.05
                    },
                    "xaxis": {
                      "automargin": true,
                      "gridcolor": "white",
                      "linecolor": "white",
                      "ticks": "",
                      "title": {
                        "standoff": 15
                      },
                      "zerolinecolor": "white",
                      "zerolinewidth": 2
                    },
                    "yaxis": {
                      "automargin": true,
                      "gridcolor": "white",
                      "linecolor": "white",
                      "ticks": "",
                      "title": {
                        "standoff": 15
                      },
                      "zerolinecolor": "white",
                      "zerolinewidth": 2
                    }
                  }
                },
                "title": {
                  "text": "Distribuição de raça de estudante"
                }
              }
            }
          },
          "metadata": {},
          "output_type": "display_data"
        }
      ],
      "source": [
        "datapie = data['RACA'].value_counts().nlargest(4).reset_index()\n",
        "datapie.columns = ['RACA', 'QTD']\n",
        "\n",
        "fig = px.pie(\n",
        "    datapie,\n",
        "    names='RACA',\n",
        "    values='QTD',\n",
        "    color='RACA',\n",
        "    color_discrete_sequence=['#7077b5', '#a6b1f7', '#3e4378', '#828acb'],\n",
        "    title='Distribuição de raça de estudante'\n",
        ")\n",
        "\n",
        "fig.update_traces(textinfo='percent', pull=[0,0,0,0])\n",
        "fig.update_layout(legend_title_text='Raças')\n",
        "\n",
        "fig.show()"
      ]
    }
  ],
  "metadata": {
    "colab": {
      "authorship_tag": "ABX9TyOEJfI9mGu8IV+7hIcuWw5M",
      "include_colab_link": true,
      "mount_file_id": "1eBYZyMlK4UT_jCicecqXL3ijkpRhEb8x",
      "provenance": []
    },
    "kernelspec": {
      "display_name": "venv",
      "language": "python",
      "name": "python3"
    },
    "language_info": {
      "codemirror_mode": {
        "name": "ipython",
        "version": 3
      },
      "file_extension": ".py",
      "mimetype": "text/x-python",
      "name": "python",
      "nbconvert_exporter": "python",
      "pygments_lexer": "ipython3",
      "version": "3.11.9"
    }
  },
  "nbformat": 4,
  "nbformat_minor": 0
}
